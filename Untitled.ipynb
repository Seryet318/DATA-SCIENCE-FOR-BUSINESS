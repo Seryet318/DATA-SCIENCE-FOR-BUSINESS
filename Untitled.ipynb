{
 "cells": [
  {
   "cell_type": "code",
   "execution_count": 17,
   "id": "ff541d45",
   "metadata": {},
   "outputs": [],
   "source": [
    "import pandas as pd\n",
    "import numpy as nm\n",
    "import matplotlib as mlt\n",
    "import matplotlib.pyplot as plt\n",
    "import seaborn as sns\n",
    "from datetime import datetime\n",
    "\n",
    "%matplotlib inline"
   ]
  },
  {
   "cell_type": "code",
   "execution_count": 10,
   "id": "dfa01628",
   "metadata": {},
   "outputs": [],
   "source": [
    "Rapporti_Lavoro_Cessati_DF = pd.read_csv('Rapporti_di_lavoro_cessati.csv')"
   ]
  },
  {
   "cell_type": "code",
   "execution_count": 11,
   "id": "38aa3682",
   "metadata": {},
   "outputs": [
    {
     "data": {
      "text/html": [
       "<div>\n",
       "<style scoped>\n",
       "    .dataframe tbody tr th:only-of-type {\n",
       "        vertical-align: middle;\n",
       "    }\n",
       "\n",
       "    .dataframe tbody tr th {\n",
       "        vertical-align: top;\n",
       "    }\n",
       "\n",
       "    .dataframe thead th {\n",
       "        text-align: right;\n",
       "    }\n",
       "</style>\n",
       "<table border=\"1\" class=\"dataframe\">\n",
       "  <thead>\n",
       "    <tr style=\"text-align: right;\">\n",
       "      <th></th>\n",
       "      <th>DATA</th>\n",
       "      <th>GENERE</th>\n",
       "      <th>ETA</th>\n",
       "      <th>SETTOREECONOMICODETTAGLIO</th>\n",
       "      <th>TITOLOSTUDIO</th>\n",
       "      <th>CONTRATTO</th>\n",
       "      <th>MODALITALAVORO</th>\n",
       "      <th>PROVINCIAIMPRESA</th>\n",
       "      <th>ITALIANO</th>\n",
       "    </tr>\n",
       "  </thead>\n",
       "  <tbody>\n",
       "    <tr>\n",
       "      <th>0</th>\n",
       "      <td>02/04/2019</td>\n",
       "      <td>M</td>\n",
       "      <td>20</td>\n",
       "      <td>Lavori di meccanica generale</td>\n",
       "      <td>DIPLOMA DI ISTRUZIONE SECONDARIA SUPERIORE  CH...</td>\n",
       "      <td>APPRENDISTATO PROFESSIONALIZZANTE O CONTRATTO ...</td>\n",
       "      <td>TEMPO PIENO</td>\n",
       "      <td>BERGAMO</td>\n",
       "      <td>ITALIA</td>\n",
       "    </tr>\n",
       "    <tr>\n",
       "      <th>1</th>\n",
       "      <td>08/06/2018</td>\n",
       "      <td>F</td>\n",
       "      <td>28</td>\n",
       "      <td>Fabbricazione di altre apparecchiature elettri...</td>\n",
       "      <td>DIPLOMA DI ISTRUZIONE SECONDARIA SUPERIORE  CH...</td>\n",
       "      <td>APPRENDISTATO PROFESSIONALIZZANTE O CONTRATTO ...</td>\n",
       "      <td>TEMPO PIENO</td>\n",
       "      <td>BERGAMO</td>\n",
       "      <td>ITALIA</td>\n",
       "    </tr>\n",
       "    <tr>\n",
       "      <th>2</th>\n",
       "      <td>02/02/2016</td>\n",
       "      <td>F</td>\n",
       "      <td>20</td>\n",
       "      <td>Fabbricazione di altre apparecchiature elettri...</td>\n",
       "      <td>DIPLOMA DI ISTRUZIONE SECONDARIA SUPERIORE  CH...</td>\n",
       "      <td>APPRENDISTATO PROFESSIONALIZZANTE O CONTRATTO ...</td>\n",
       "      <td>TEMPO PIENO</td>\n",
       "      <td>BERGAMO</td>\n",
       "      <td>ITALIA</td>\n",
       "    </tr>\n",
       "    <tr>\n",
       "      <th>3</th>\n",
       "      <td>12/01/2015</td>\n",
       "      <td>M</td>\n",
       "      <td>59</td>\n",
       "      <td>Gestioni di funicolari, ski-lift e seggiovie s...</td>\n",
       "      <td>LICENZA MEDIA</td>\n",
       "      <td>LAVORO A TEMPO DETERMINATO</td>\n",
       "      <td>TEMPO PIENO</td>\n",
       "      <td>BERGAMO</td>\n",
       "      <td>ITALIA</td>\n",
       "    </tr>\n",
       "    <tr>\n",
       "      <th>4</th>\n",
       "      <td>09/08/2017</td>\n",
       "      <td>M</td>\n",
       "      <td>61</td>\n",
       "      <td>Gestioni di funicolari, ski-lift e seggiovie s...</td>\n",
       "      <td>LICENZA MEDIA</td>\n",
       "      <td>LAVORO A TEMPO DETERMINATO</td>\n",
       "      <td>TEMPO PIENO</td>\n",
       "      <td>BERGAMO</td>\n",
       "      <td>ITALIA</td>\n",
       "    </tr>\n",
       "  </tbody>\n",
       "</table>\n",
       "</div>"
      ],
      "text/plain": [
       "         DATA GENERE  ETA                          SETTOREECONOMICODETTAGLIO  \\\n",
       "0  02/04/2019      M   20                       Lavori di meccanica generale   \n",
       "1  08/06/2018      F   28  Fabbricazione di altre apparecchiature elettri...   \n",
       "2  02/02/2016      F   20  Fabbricazione di altre apparecchiature elettri...   \n",
       "3  12/01/2015      M   59  Gestioni di funicolari, ski-lift e seggiovie s...   \n",
       "4  09/08/2017      M   61  Gestioni di funicolari, ski-lift e seggiovie s...   \n",
       "\n",
       "                                        TITOLOSTUDIO  \\\n",
       "0  DIPLOMA DI ISTRUZIONE SECONDARIA SUPERIORE  CH...   \n",
       "1  DIPLOMA DI ISTRUZIONE SECONDARIA SUPERIORE  CH...   \n",
       "2  DIPLOMA DI ISTRUZIONE SECONDARIA SUPERIORE  CH...   \n",
       "3                                      LICENZA MEDIA   \n",
       "4                                      LICENZA MEDIA   \n",
       "\n",
       "                                           CONTRATTO MODALITALAVORO  \\\n",
       "0  APPRENDISTATO PROFESSIONALIZZANTE O CONTRATTO ...    TEMPO PIENO   \n",
       "1  APPRENDISTATO PROFESSIONALIZZANTE O CONTRATTO ...    TEMPO PIENO   \n",
       "2  APPRENDISTATO PROFESSIONALIZZANTE O CONTRATTO ...    TEMPO PIENO   \n",
       "3                         LAVORO A TEMPO DETERMINATO    TEMPO PIENO   \n",
       "4                         LAVORO A TEMPO DETERMINATO    TEMPO PIENO   \n",
       "\n",
       "  PROVINCIAIMPRESA ITALIANO  \n",
       "0          BERGAMO   ITALIA  \n",
       "1          BERGAMO   ITALIA  \n",
       "2          BERGAMO   ITALIA  \n",
       "3          BERGAMO   ITALIA  \n",
       "4          BERGAMO   ITALIA  "
      ]
     },
     "execution_count": 11,
     "metadata": {},
     "output_type": "execute_result"
    }
   ],
   "source": [
    "Rapporti_Lavoro_Cessati_DF.head(5)"
   ]
  },
  {
   "cell_type": "code",
   "execution_count": null,
   "id": "e9f8cef7",
   "metadata": {},
   "outputs": [],
   "source": [
    "#Description Columns field:\n",
    "#    -Data\n",
    "#    -Genere\n",
    "#    -Eta\n",
    "#    -Settore Economico Dettaglio\n",
    "#    -Titolo Studio\n",
    "#    -Contratto\n",
    "#    -Provincia Impresa\n",
    "#    -Italiano"
   ]
  },
  {
   "cell_type": "code",
   "execution_count": 26,
   "id": "91b2300c",
   "metadata": {
    "scrolled": false
   },
   "outputs": [
    {
     "data": {
      "text/html": [
       "<div>\n",
       "<style scoped>\n",
       "    .dataframe tbody tr th:only-of-type {\n",
       "        vertical-align: middle;\n",
       "    }\n",
       "\n",
       "    .dataframe tbody tr th {\n",
       "        vertical-align: top;\n",
       "    }\n",
       "\n",
       "    .dataframe thead th {\n",
       "        text-align: right;\n",
       "    }\n",
       "</style>\n",
       "<table border=\"1\" class=\"dataframe\">\n",
       "  <thead>\n",
       "    <tr style=\"text-align: right;\">\n",
       "      <th></th>\n",
       "      <th>DATA</th>\n",
       "      <th>GENERE</th>\n",
       "      <th>ETA</th>\n",
       "      <th>SETTOREECONOMICODETTAGLIO</th>\n",
       "      <th>TITOLOSTUDIO</th>\n",
       "      <th>CONTRATTO</th>\n",
       "      <th>MODALITALAVORO</th>\n",
       "      <th>PROVINCIAIMPRESA</th>\n",
       "      <th>ITALIANO</th>\n",
       "    </tr>\n",
       "  </thead>\n",
       "  <tbody>\n",
       "    <tr>\n",
       "      <th>3741384</th>\n",
       "      <td>12/11/2015</td>\n",
       "      <td>M</td>\n",
       "      <td>26</td>\n",
       "      <td>Altri servizi di supporto alle imprese nca</td>\n",
       "      <td>LICENZA MEDIA</td>\n",
       "      <td>LAVORO A TEMPO INDETERMINATO</td>\n",
       "      <td>TEMPO PIENO</td>\n",
       "      <td>MONZA E BRIANZA</td>\n",
       "      <td>ROMANIA</td>\n",
       "    </tr>\n",
       "    <tr>\n",
       "      <th>3741385</th>\n",
       "      <td>01/11/2013</td>\n",
       "      <td>F</td>\n",
       "      <td>52</td>\n",
       "      <td>Fabbricazione di bilance e di macchine automat...</td>\n",
       "      <td>DIPLOMA DI ISTRUZIONE SECONDARIA SUPERIORE  CH...</td>\n",
       "      <td>LAVORO A TEMPO INDETERMINATO</td>\n",
       "      <td>TEMPO PARZIALE ORIZZONTALE</td>\n",
       "      <td>MONZA E BRIANZA</td>\n",
       "      <td>ITALIA</td>\n",
       "    </tr>\n",
       "    <tr>\n",
       "      <th>3741386</th>\n",
       "      <td>12/11/2015</td>\n",
       "      <td>M</td>\n",
       "      <td>48</td>\n",
       "      <td>Altri servizi di supporto alle imprese nca</td>\n",
       "      <td>LICENZA MEDIA</td>\n",
       "      <td>LAVORO A TEMPO INDETERMINATO</td>\n",
       "      <td>TEMPO PIENO</td>\n",
       "      <td>MONZA E BRIANZA</td>\n",
       "      <td>ROMANIA</td>\n",
       "    </tr>\n",
       "    <tr>\n",
       "      <th>3741387</th>\n",
       "      <td>08/03/2013</td>\n",
       "      <td>M</td>\n",
       "      <td>18</td>\n",
       "      <td>Costruzione di edifici residenziali e non resi...</td>\n",
       "      <td>NESSUN TITOLO DI STUDIO</td>\n",
       "      <td>LAVORO A TEMPO DETERMINATO</td>\n",
       "      <td>TEMPO PIENO</td>\n",
       "      <td>MONZA E BRIANZA</td>\n",
       "      <td>ITALIA</td>\n",
       "    </tr>\n",
       "    <tr>\n",
       "      <th>3741388</th>\n",
       "      <td>11/12/2013</td>\n",
       "      <td>M</td>\n",
       "      <td>24</td>\n",
       "      <td>Raccolta di rifiuti solidi non pericolosi</td>\n",
       "      <td>NESSUN TITOLO DI STUDIO</td>\n",
       "      <td>LAVORO A TEMPO DETERMINATO</td>\n",
       "      <td>TEMPO PIENO</td>\n",
       "      <td>MONZA E BRIANZA</td>\n",
       "      <td>ITALIA</td>\n",
       "    </tr>\n",
       "    <tr>\n",
       "      <th>3741389</th>\n",
       "      <td>05/11/2018</td>\n",
       "      <td>M</td>\n",
       "      <td>19</td>\n",
       "      <td>Fabbricazione di altri elementi in legno e di ...</td>\n",
       "      <td>TITOLO DI ISTRUZIONE SECONDARIA SUPERIORE (SCO...</td>\n",
       "      <td>LAVORO A TEMPO DETERMINATO</td>\n",
       "      <td>TEMPO PIENO</td>\n",
       "      <td>BRESCIA</td>\n",
       "      <td>ITALIA</td>\n",
       "    </tr>\n",
       "    <tr>\n",
       "      <th>3741390</th>\n",
       "      <td>09/04/2017</td>\n",
       "      <td>M</td>\n",
       "      <td>67</td>\n",
       "      <td>Altra istruzione secondaria di secondo grado d...</td>\n",
       "      <td>LAUREA - Vecchio o nuovo ordinamento</td>\n",
       "      <td>LAVORO A TEMPO INDETERMINATO</td>\n",
       "      <td>TEMPO PIENO</td>\n",
       "      <td>BRESCIA</td>\n",
       "      <td>ITALIA</td>\n",
       "    </tr>\n",
       "    <tr>\n",
       "      <th>3741391</th>\n",
       "      <td>08/05/2015</td>\n",
       "      <td>M</td>\n",
       "      <td>59</td>\n",
       "      <td>Costruzione di edifici residenziali e non resi...</td>\n",
       "      <td>NESSUN TITOLO DI STUDIO</td>\n",
       "      <td>LAVORO A TEMPO INDETERMINATO</td>\n",
       "      <td>TEMPO PIENO</td>\n",
       "      <td>BERGAMO</td>\n",
       "      <td>MAROCCO</td>\n",
       "    </tr>\n",
       "    <tr>\n",
       "      <th>3741392</th>\n",
       "      <td>10/10/2016</td>\n",
       "      <td>M</td>\n",
       "      <td>26</td>\n",
       "      <td>Installazione di altre macchine ed apparecchia...</td>\n",
       "      <td>DIPLOMA DI ISTRUZIONE SECONDARIA SUPERIORE  CH...</td>\n",
       "      <td>LAVORO A TEMPO INDETERMINATO</td>\n",
       "      <td>TEMPO PIENO</td>\n",
       "      <td>BERGAMO</td>\n",
       "      <td>ITALIA</td>\n",
       "    </tr>\n",
       "    <tr>\n",
       "      <th>3741393</th>\n",
       "      <td>09/10/2018</td>\n",
       "      <td>M</td>\n",
       "      <td>45</td>\n",
       "      <td>Fabbricazione di strutture metalliche e parti ...</td>\n",
       "      <td>LICENZA MEDIA</td>\n",
       "      <td>LAVORO A TEMPO INDETERMINATO</td>\n",
       "      <td>TEMPO PIENO</td>\n",
       "      <td>BERGAMO</td>\n",
       "      <td>ITALIA</td>\n",
       "    </tr>\n",
       "  </tbody>\n",
       "</table>\n",
       "</div>"
      ],
      "text/plain": [
       "               DATA GENERE  ETA  \\\n",
       "3741384  12/11/2015      M   26   \n",
       "3741385  01/11/2013      F   52   \n",
       "3741386  12/11/2015      M   48   \n",
       "3741387  08/03/2013      M   18   \n",
       "3741388  11/12/2013      M   24   \n",
       "3741389  05/11/2018      M   19   \n",
       "3741390  09/04/2017      M   67   \n",
       "3741391  08/05/2015      M   59   \n",
       "3741392  10/10/2016      M   26   \n",
       "3741393  09/10/2018      M   45   \n",
       "\n",
       "                                 SETTOREECONOMICODETTAGLIO  \\\n",
       "3741384         Altri servizi di supporto alle imprese nca   \n",
       "3741385  Fabbricazione di bilance e di macchine automat...   \n",
       "3741386         Altri servizi di supporto alle imprese nca   \n",
       "3741387  Costruzione di edifici residenziali e non resi...   \n",
       "3741388          Raccolta di rifiuti solidi non pericolosi   \n",
       "3741389  Fabbricazione di altri elementi in legno e di ...   \n",
       "3741390  Altra istruzione secondaria di secondo grado d...   \n",
       "3741391  Costruzione di edifici residenziali e non resi...   \n",
       "3741392  Installazione di altre macchine ed apparecchia...   \n",
       "3741393  Fabbricazione di strutture metalliche e parti ...   \n",
       "\n",
       "                                              TITOLOSTUDIO  \\\n",
       "3741384                                      LICENZA MEDIA   \n",
       "3741385  DIPLOMA DI ISTRUZIONE SECONDARIA SUPERIORE  CH...   \n",
       "3741386                                      LICENZA MEDIA   \n",
       "3741387                            NESSUN TITOLO DI STUDIO   \n",
       "3741388                            NESSUN TITOLO DI STUDIO   \n",
       "3741389  TITOLO DI ISTRUZIONE SECONDARIA SUPERIORE (SCO...   \n",
       "3741390               LAUREA - Vecchio o nuovo ordinamento   \n",
       "3741391                            NESSUN TITOLO DI STUDIO   \n",
       "3741392  DIPLOMA DI ISTRUZIONE SECONDARIA SUPERIORE  CH...   \n",
       "3741393                                      LICENZA MEDIA   \n",
       "\n",
       "                            CONTRATTO              MODALITALAVORO  \\\n",
       "3741384  LAVORO A TEMPO INDETERMINATO                 TEMPO PIENO   \n",
       "3741385  LAVORO A TEMPO INDETERMINATO  TEMPO PARZIALE ORIZZONTALE   \n",
       "3741386  LAVORO A TEMPO INDETERMINATO                 TEMPO PIENO   \n",
       "3741387    LAVORO A TEMPO DETERMINATO                 TEMPO PIENO   \n",
       "3741388    LAVORO A TEMPO DETERMINATO                 TEMPO PIENO   \n",
       "3741389    LAVORO A TEMPO DETERMINATO                 TEMPO PIENO   \n",
       "3741390  LAVORO A TEMPO INDETERMINATO                 TEMPO PIENO   \n",
       "3741391  LAVORO A TEMPO INDETERMINATO                 TEMPO PIENO   \n",
       "3741392  LAVORO A TEMPO INDETERMINATO                 TEMPO PIENO   \n",
       "3741393  LAVORO A TEMPO INDETERMINATO                 TEMPO PIENO   \n",
       "\n",
       "        PROVINCIAIMPRESA ITALIANO  \n",
       "3741384  MONZA E BRIANZA  ROMANIA  \n",
       "3741385  MONZA E BRIANZA   ITALIA  \n",
       "3741386  MONZA E BRIANZA  ROMANIA  \n",
       "3741387  MONZA E BRIANZA   ITALIA  \n",
       "3741388  MONZA E BRIANZA   ITALIA  \n",
       "3741389          BRESCIA   ITALIA  \n",
       "3741390          BRESCIA   ITALIA  \n",
       "3741391          BERGAMO  MAROCCO  \n",
       "3741392          BERGAMO   ITALIA  \n",
       "3741393          BERGAMO   ITALIA  "
      ]
     },
     "execution_count": 26,
     "metadata": {},
     "output_type": "execute_result"
    }
   ],
   "source": [
    "Rapporti_Lavoro_Cessati_DF.tail(10)"
   ]
  },
  {
   "cell_type": "code",
   "execution_count": 12,
   "id": "514a7818",
   "metadata": {},
   "outputs": [
    {
     "data": {
      "text/plain": [
       "(3741394, 9)"
      ]
     },
     "execution_count": 12,
     "metadata": {},
     "output_type": "execute_result"
    }
   ],
   "source": [
    "Rapporti_Lavoro_Cessati_DF.shape"
   ]
  },
  {
   "cell_type": "code",
   "execution_count": 13,
   "id": "7d947ea1",
   "metadata": {
    "scrolled": true
   },
   "outputs": [
    {
     "name": "stdout",
     "output_type": "stream",
     "text": [
      "<class 'pandas.core.frame.DataFrame'>\n",
      "RangeIndex: 3741394 entries, 0 to 3741393\n",
      "Data columns (total 9 columns):\n",
      " #   Column                     Dtype \n",
      "---  ------                     ----- \n",
      " 0   DATA                       object\n",
      " 1   GENERE                     object\n",
      " 2   ETA                        int64 \n",
      " 3   SETTOREECONOMICODETTAGLIO  object\n",
      " 4   TITOLOSTUDIO               object\n",
      " 5   CONTRATTO                  object\n",
      " 6   MODALITALAVORO             object\n",
      " 7   PROVINCIAIMPRESA           object\n",
      " 8   ITALIANO                   object\n",
      "dtypes: int64(1), object(8)\n",
      "memory usage: 256.9+ MB\n"
     ]
    }
   ],
   "source": [
    "Rapporti_Lavoro_Cessati_DF.info()"
   ]
  },
  {
   "cell_type": "code",
   "execution_count": null,
   "id": "0be3d630",
   "metadata": {},
   "outputs": [],
   "source": [
    "# 9 columns in total \n",
    "# 8 features, each contains 3741393 data points\n",
    "# 1 target variable (sales)"
   ]
  },
  {
   "cell_type": "code",
   "execution_count": 34,
   "id": "aa2077ee",
   "metadata": {},
   "outputs": [
    {
     "data": {
      "text/plain": [
       "count    3741394.00\n",
       "mean          38.11\n",
       "std           12.62\n",
       "min            0.00\n",
       "25%           28.00\n",
       "50%           37.00\n",
       "75%           47.00\n",
       "max          621.00\n",
       "Name: ETA, dtype: float64"
      ]
     },
     "execution_count": 34,
     "metadata": {},
     "output_type": "execute_result"
    }
   ],
   "source": [
    "Rapporti_Lavoro_Cessati_DF['ETA'].describe().round(2)"
   ]
  },
  {
   "cell_type": "code",
   "execution_count": 18,
   "id": "b3d2a94b",
   "metadata": {
    "scrolled": false
   },
   "outputs": [
    {
     "data": {
      "text/plain": [
       "<seaborn.axisgrid.FacetGrid at 0x238acb83be0>"
      ]
     },
     "execution_count": 18,
     "metadata": {},
     "output_type": "execute_result"
    },
    {
     "data": {
      "image/png": "[encoded data removed]",
      "text/plain": [
       "<Figure size 360x360 with 1 Axes>"
      ]
     },
     "metadata": {
      "needs_background": "light"
     },
     "output_type": "display_data"
    }
   ],
   "source": [
    "sns.displot(Rapporti_Lavoro_Cessati_DF['ETA'], kde=False, bins=25)"
   ]
  },
  {
   "cell_type": "code",
   "execution_count": 19,
   "id": "948cae9f",
   "metadata": {},
   "outputs": [
    {
     "data": {
      "text/plain": [
       "<AxesSubplot:xlabel='GENERE', ylabel='count'>"
      ]
     },
     "execution_count": 19,
     "metadata": {},
     "output_type": "execute_result"
    },
    {
     "data": {
      "image/png": "[encoded data removed]",
      "text/plain": [
       "<Figure size 432x288 with 1 Axes>"
      ]
     },
     "metadata": {
      "needs_background": "light"
     },
     "output_type": "display_data"
    }
   ],
   "source": [
    "sns.countplot(x='GENERE', data=Rapporti_Lavoro_Cessati_DF)"
   ]
  },
  {
   "cell_type": "code",
   "execution_count": 23,
   "id": "be743673",
   "metadata": {},
   "outputs": [
    {
     "data": {
      "text/plain": [
       "<AxesSubplot:xlabel='count', ylabel='PROVINCIAIMPRESA'>"
      ]
     },
     "execution_count": 23,
     "metadata": {},
     "output_type": "execute_result"
    },
    {
     "data": {
      "image/png": "[encoded data removed]",
      "text/plain": [
       "<Figure size 432x288 with 1 Axes>"
      ]
     },
     "metadata": {
      "needs_background": "light"
     },
     "output_type": "display_data"
    }
   ],
   "source": [
    "sns.countplot(y='PROVINCIAIMPRESA', hue='GENERE', data=Rapporti_Lavoro_Cessati_DF)"
   ]
  },
  {
   "cell_type": "code",
   "execution_count": 20,
   "id": "8c7d6e98",
   "metadata": {},
   "outputs": [
    {
     "data": {
      "text/plain": [
       "<AxesSubplot:ylabel='PROVINCIAIMPRESA'>"
      ]
     },
     "execution_count": 20,
     "metadata": {},
     "output_type": "execute_result"
    },
    {
     "data": {
      "image/png": "[encoded data removed]",
      "text/plain": [
       "<Figure size 720x720 with 1 Axes>"
      ]
     },
     "metadata": {},
     "output_type": "display_data"
    }
   ],
   "source": [
    "Rapporti_Lavoro_Cessati_DF['PROVINCIAIMPRESA'].value_counts().plot(kind='pie', figsize=(10, 10))"
   ]
  },
  {
   "cell_type": "code",
   "execution_count": 21,
   "id": "b23ebad4",
   "metadata": {},
   "outputs": [
    {
     "data": {
      "image/png": "[encoded data removed]",
      "text/plain": [
       "<Figure size 720x720 with 1 Axes>"
      ]
     },
     "metadata": {
      "needs_background": "light"
     },
     "output_type": "display_data"
    }
   ],
   "source": [
    "ax = Rapporti_Lavoro_Cessati_DF['PROVINCIAIMPRESA'].value_counts().plot(kind='bar', figsize=(10, 10))"
   ]
  },
  {
   "cell_type": "code",
   "execution_count": 22,
   "id": "68d1271e",
   "metadata": {},
   "outputs": [
    {
     "data": {
      "text/plain": [
       "MILANO             1658400\n",
       "BRESCIA             454133\n",
       "BERGAMO             356196\n",
       "MONZA E BRIANZA     248667\n",
       "VARESE              239937\n",
       "COMO                182745\n",
       "PAVIA               147646\n",
       "MANTOVA             142542\n",
       "CREMONA              95434\n",
       "LECCO                87255\n",
       "LODI                 66423\n",
       "SONDRIO              62016\n",
       "Name: PROVINCIAIMPRESA, dtype: int64"
      ]
     },
     "execution_count": 22,
     "metadata": {},
     "output_type": "execute_result"
    }
   ],
   "source": [
    "Rapporti_Lavoro_Cessati_DF['PROVINCIAIMPRESA'].value_counts()"
   ]
  },
  {
   "cell_type": "code",
   "execution_count": null,
   "id": "0ef6829a",
   "metadata": {},
   "outputs": [],
   "source": []
  },
  {
   "cell_type": "code",
   "execution_count": null,
   "id": "3cb1bf04",
   "metadata": {},
   "outputs": [],
   "source": []
  }
 ],
 "metadata": {
  "kernelspec": {
   "display_name": "Python 3 (ipykernel)",
   "language": "python",
   "name": "python3"
  },
  "language_info": {
   "codemirror_mode": {
    "name": "ipython",
    "version": 3
   },
   "file_extension": ".py",
   "mimetype": "text/x-python",
   "name": "python",
   "nbconvert_exporter": "python",
   "pygments_lexer": "ipython3",
   "version": "3.10.2"
  }
 },
 "nbformat": 4,
 "nbformat_minor": 5
}
