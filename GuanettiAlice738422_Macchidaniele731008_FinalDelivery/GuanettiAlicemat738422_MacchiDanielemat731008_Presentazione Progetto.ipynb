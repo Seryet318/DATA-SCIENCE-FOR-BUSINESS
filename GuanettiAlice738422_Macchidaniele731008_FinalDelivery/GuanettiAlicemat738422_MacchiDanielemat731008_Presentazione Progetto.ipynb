{
 "cells": [
  {
   "cell_type": "markdown",
   "id": "46304b53",
   "metadata": {
    "slideshow": {
     "slide_type": "slide"
    }
   },
   "source": [
    "<h1>\n",
    "<p style=\"text-align: center;\"> Qual è il futuro del lavoro? </p></h1>\n",
    "\n",
    "#### DEVELOPER TEAM:\n",
    " -    Guanetti Alice\n",
    " -    Macchi Daniele"
   ]
  },
  {
   "cell_type": "markdown",
   "id": "1c9a37c6",
   "metadata": {
    "slideshow": {
     "slide_type": "slide"
    }
   },
   "source": [
    "<img src=\"img_1.png\" height= \"1000\" width=\"2000\">"
   ]
  },
  {
   "cell_type": "markdown",
   "id": "e1fb78b7",
   "metadata": {
    "slideshow": {
     "slide_type": "slide"
    }
   },
   "source": [
    "![](img_2.png)\n",
    "\n",
    "<p style=\"text-align: center;\">\n",
    "<a href=\"https://www.dati.lombardia.it/Attivit-Produttive/Rapporti-di-lavoro-attivati/qbau-cyuc\"> Lavori Attivati,</a>\n",
    "<a href=\"https://www.dati.lombardia.it/Attivit-Produttive/Rapporti-di-lavoro-cessati/nwz3-p6vm\"> Lavori Cessati</a>\n",
    "</p>\n"
   ]
  },
  {
   "cell_type": "code",
   "execution_count": 2,
   "id": "8dec21bf",
   "metadata": {
    "slideshow": {
     "slide_type": "skip"
    }
   },
   "outputs": [],
   "source": [
    "import pandas as pd\n",
    "import numpy as np\n",
    "import matplotlib as mlt\n",
    "import matplotlib.pyplot as plt\n",
    "import seaborn as sns\n",
    "import scikitplot as skplt\n",
    "import sklearn\n",
    "import statsmodels.api as sm\n",
    "import warnings\n",
    "\n",
    "from datetime import datetime\n",
    "from sklearn import preprocessing\n",
    "from sklearn.linear_model import LinearRegression\n",
    "from sklearn.metrics import r2_score\n",
    "from sklearn.preprocessing import LabelEncoder\n",
    "from statsmodels.tsa.seasonal import seasonal_decompose\n",
    "from dateutil.parser import parse\n",
    "from statsmodels.tsa.stattools import adfuller\n",
    "from scipy import signal\n",
    "from pylab import rcParams\n",
    "from pandas.plotting import autocorrelation_plot\n",
    "from pandas.plotting import lag_plot\n",
    "from statsmodels.tsa.arima.model import ARIMA\n",
    "from statsmodels.tsa.statespace.sarimax import SARIMAX\n",
    "from pmdarima.arima import auto_arima\n",
    "from pmdarima.arima import ADFTest\n",
    "from sklearn.metrics import mean_absolute_error, mean_squared_error, mean_absolute_percentage_error\n",
    "import math\n",
    "\n",
    "%matplotlib inline\n",
    "\n",
    "plt.style.use('seaborn-whitegrid')\n",
    "warnings.filterwarnings('ignore')"
   ]
  },
  {
   "cell_type": "code",
   "execution_count": 3,
   "id": "0f73f1d7",
   "metadata": {
    "slideshow": {
     "slide_type": "skip"
    }
   },
   "outputs": [],
   "source": [
    "df_rapporti_attivati = pd.read_csv(\"Rapporti_di_lavoro_attivati.csv\")\n",
    "df_rapporti_cessati = pd.read_csv(\"Rapporti_di_lavoro_cessati.csv\")"
   ]
  },
  {
   "cell_type": "markdown",
   "id": "f5acbf91",
   "metadata": {
    "slideshow": {
     "slide_type": "slide"
    }
   },
   "source": [
    "<h1>\n",
    "<p style=\"text-align: center;\"> ANALISI ESPLORATIVA </p></h1>\n",
    "\n",
    "#### L'analisi esplorativa dei dati è stata utilizzata per fornire una migliore comprensione delle variabili del dataset e delle loro interrelazioni adottando dei metodi di visualizzazione dei dati.\n",
    "\n",
    "<center>\n",
    "<img src=\"img_3.png\" height= \"500\" width=\"500\" align=\"middle\">\n",
    "</center>"
   ]
  },
  {
   "cell_type": "code",
   "execution_count": 4,
   "id": "3ca587da",
   "metadata": {
    "cell_style": "split",
    "slideshow": {
     "slide_type": "subslide"
    }
   },
   "outputs": [
    {
     "data": {
      "text/plain": [
       "M    5108146\n",
       "F    4471648\n",
       "Name: GENERE, dtype: int64"
      ]
     },
     "execution_count": 4,
     "metadata": {},
     "output_type": "execute_result"
    },
    {
     "data": {
      "image/png": "[encoded data removed]",
      "text/plain": [
       "<Figure size 432x288 with 1 Axes>"
      ]
     },
     "metadata": {},
     "output_type": "display_data"
    }
   ],
   "source": [
    "'''LAVORI ATTIVATI'''\n",
    "sns.countplot(x='GENERE', data=df_rapporti_attivati)\n",
    "plt.title('Distribution for GENERE')\n",
    "\n",
    "df_rapporti_attivati['GENERE'].value_counts()"
   ]
  },
  {
   "cell_type": "code",
   "execution_count": 6,
   "id": "0d1e6e1b",
   "metadata": {
    "cell_style": "split",
    "slideshow": {
     "slide_type": "fragment"
    }
   },
   "outputs": [
    {
     "data": {
      "text/plain": [
       "M    2117550\n",
       "F    1623844\n",
       "Name: GENERE, dtype: int64"
      ]
     },
     "execution_count": 6,
     "metadata": {},
     "output_type": "execute_result"
    },
    {
     "data": {
      "image/png": "[encoded data removed]",
      "text/plain": [
       "<Figure size 432x288 with 1 Axes>"
      ]
     },
     "metadata": {},
     "output_type": "display_data"
    }
   ],
   "source": [
    "'''LAVORI CESSATI'''\n",
    "sns.countplot(x='GENERE', data=df_rapporti_cessati)\n",
    "plt.title('Distribution for GENERE')\n",
    "\n",
    "df_rapporti_cessati['GENERE'].value_counts()"
   ]
  },
  {
   "cell_type": "code",
   "execution_count": 7,
   "id": "4c824634",
   "metadata": {
    "cell_style": "split",
    "scrolled": true,
    "slideshow": {
     "slide_type": "subslide"
    }
   },
   "outputs": [
    {
     "data": {
      "text/html": [
       "<div>\n",
       "<style scoped>\n",
       "    .dataframe tbody tr th:only-of-type {\n",
       "        vertical-align: middle;\n",
       "    }\n",
       "\n",
       "    .dataframe tbody tr th {\n",
       "        vertical-align: top;\n",
       "    }\n",
       "\n",
       "    .dataframe thead th {\n",
       "        text-align: right;\n",
       "    }\n",
       "</style>\n",
       "<table border=\"1\" class=\"dataframe\">\n",
       "  <thead>\n",
       "    <tr style=\"text-align: right;\">\n",
       "      <th></th>\n",
       "      <th>DATA</th>\n",
       "      <th>GENERE</th>\n",
       "      <th>ETA</th>\n",
       "      <th>SETTOREECONOMICODETTAGLIO</th>\n",
       "      <th>TITOLOSTUDIO</th>\n",
       "      <th>CONTRATTO</th>\n",
       "      <th>MODALITALAVORO</th>\n",
       "      <th>PROVINCIAIMPRESA</th>\n",
       "      <th>ITALIANO</th>\n",
       "    </tr>\n",
       "  </thead>\n",
       "  <tbody>\n",
       "    <tr>\n",
       "      <th>5823722</th>\n",
       "      <td>10/06/2017</td>\n",
       "      <td>M</td>\n",
       "      <td>0</td>\n",
       "      <td>Commercio all'ingrosso di elettrodomestici, di...</td>\n",
       "      <td>DIPLOMA DI ISTRUZIONE SECONDARIA SUPERIORE  CH...</td>\n",
       "      <td>LAVORO A TEMPO INDETERMINATO</td>\n",
       "      <td>TEMPO PIENO</td>\n",
       "      <td>MILANO</td>\n",
       "      <td>ITALIA</td>\n",
       "    </tr>\n",
       "    <tr>\n",
       "      <th>6532181</th>\n",
       "      <td>08/05/2015</td>\n",
       "      <td>M</td>\n",
       "      <td>0</td>\n",
       "      <td>Fabbricazione di pitture, vernici e smalti, in...</td>\n",
       "      <td>NESSUN TITOLO DI STUDIO</td>\n",
       "      <td>LAVORO A TEMPO INDETERMINATO</td>\n",
       "      <td>TEMPO PIENO</td>\n",
       "      <td>BRESCIA</td>\n",
       "      <td>ITALIA</td>\n",
       "    </tr>\n",
       "    <tr>\n",
       "      <th>3838493</th>\n",
       "      <td>10/08/2018</td>\n",
       "      <td>M</td>\n",
       "      <td>0</td>\n",
       "      <td>Altre attività di servizi per la persona nca</td>\n",
       "      <td>LICENZA ELEMENTARE</td>\n",
       "      <td>LAVORO A TEMPO DETERMINATO</td>\n",
       "      <td>TEMPO PARZIALE ORIZZONTALE</td>\n",
       "      <td>MILANO</td>\n",
       "      <td>PAKISTAN</td>\n",
       "    </tr>\n",
       "    <tr>\n",
       "      <th>6462705</th>\n",
       "      <td>01/07/2010</td>\n",
       "      <td>F</td>\n",
       "      <td>0</td>\n",
       "      <td>Alberghi</td>\n",
       "      <td>NESSUN TITOLO DI STUDIO</td>\n",
       "      <td>LAVORO A TEMPO DETERMINATO</td>\n",
       "      <td>TEMPO PIENO</td>\n",
       "      <td>MILANO</td>\n",
       "      <td>SUDAN</td>\n",
       "    </tr>\n",
       "    <tr>\n",
       "      <th>6803357</th>\n",
       "      <td>11/06/2019</td>\n",
       "      <td>F</td>\n",
       "      <td>0</td>\n",
       "      <td>Assicurazioni sulla vita</td>\n",
       "      <td>NESSUN TITOLO DI STUDIO</td>\n",
       "      <td>LAVORO A TEMPO DETERMINATO</td>\n",
       "      <td>TEMPO PARZIALE ORIZZONTALE</td>\n",
       "      <td>COMO</td>\n",
       "      <td>ITALIA</td>\n",
       "    </tr>\n",
       "    <tr>\n",
       "      <th>...</th>\n",
       "      <td>...</td>\n",
       "      <td>...</td>\n",
       "      <td>...</td>\n",
       "      <td>...</td>\n",
       "      <td>...</td>\n",
       "      <td>...</td>\n",
       "      <td>...</td>\n",
       "      <td>...</td>\n",
       "      <td>...</td>\n",
       "    </tr>\n",
       "    <tr>\n",
       "      <th>8784346</th>\n",
       "      <td>03/02/2011</td>\n",
       "      <td>M</td>\n",
       "      <td>99</td>\n",
       "      <td>Altre attività di pulizia nca</td>\n",
       "      <td>NESSUN TITOLO DI STUDIO</td>\n",
       "      <td>LAVORO A TEMPO DETERMINATO</td>\n",
       "      <td>TEMPO PARZIALE ORIZZONTALE</td>\n",
       "      <td>MONZA E BRIANZA</td>\n",
       "      <td>EGITTO</td>\n",
       "    </tr>\n",
       "    <tr>\n",
       "      <th>4176633</th>\n",
       "      <td>07/01/2011</td>\n",
       "      <td>M</td>\n",
       "      <td>100</td>\n",
       "      <td>Servizi di vigilanza privata</td>\n",
       "      <td>NESSUN TITOLO DI STUDIO</td>\n",
       "      <td>LAVORO INTERMITTENTE A TEMPO DETERMINATO</td>\n",
       "      <td>TEMPO PIENO</td>\n",
       "      <td>MONZA E BRIANZA</td>\n",
       "      <td>ITALIA</td>\n",
       "    </tr>\n",
       "    <tr>\n",
       "      <th>4817178</th>\n",
       "      <td>05/03/2011</td>\n",
       "      <td>M</td>\n",
       "      <td>100</td>\n",
       "      <td>Riparazione di carrozzerie di autoveicoli</td>\n",
       "      <td>NESSUN TITOLO DI STUDIO</td>\n",
       "      <td>LAVORO A TEMPO DETERMINATO</td>\n",
       "      <td>TEMPO PIENO</td>\n",
       "      <td>PAVIA</td>\n",
       "      <td>ITALIA</td>\n",
       "    </tr>\n",
       "    <tr>\n",
       "      <th>4512593</th>\n",
       "      <td>07/09/2009</td>\n",
       "      <td>M</td>\n",
       "      <td>101</td>\n",
       "      <td>Trattamento e rivestimento dei metalli</td>\n",
       "      <td>TITOLO DI ISTRUZIONE SECONDARIA SUPERIORE (SCO...</td>\n",
       "      <td>LAVORO INTERINALE (O A SCOPO DI SOMMINISTRAZIO...</td>\n",
       "      <td>NaN</td>\n",
       "      <td>MILANO</td>\n",
       "      <td>SENEGAL</td>\n",
       "    </tr>\n",
       "    <tr>\n",
       "      <th>5840160</th>\n",
       "      <td>06/09/2201</td>\n",
       "      <td>M</td>\n",
       "      <td>221</td>\n",
       "      <td>Attività di famiglie e convivenze come datori ...</td>\n",
       "      <td>NESSUN TITOLO DI STUDIO</td>\n",
       "      <td>LAVORO DOMESTICO A TEMPO INDETERMINATO</td>\n",
       "      <td>TEMPO PARZIALE ORIZZONTALE</td>\n",
       "      <td>MILANO</td>\n",
       "      <td>SIRIA</td>\n",
       "    </tr>\n",
       "  </tbody>\n",
       "</table>\n",
       "<p>9579794 rows × 9 columns</p>\n",
       "</div>"
      ],
      "text/plain": [
       "               DATA GENERE  ETA  \\\n",
       "5823722  10/06/2017      M    0   \n",
       "6532181  08/05/2015      M    0   \n",
       "3838493  10/08/2018      M    0   \n",
       "6462705  01/07/2010      F    0   \n",
       "6803357  11/06/2019      F    0   \n",
       "...             ...    ...  ...   \n",
       "8784346  03/02/2011      M   99   \n",
       "4176633  07/01/2011      M  100   \n",
       "4817178  05/03/2011      M  100   \n",
       "4512593  07/09/2009      M  101   \n",
       "5840160  06/09/2201      M  221   \n",
       "\n",
       "                                 SETTOREECONOMICODETTAGLIO  \\\n",
       "5823722  Commercio all'ingrosso di elettrodomestici, di...   \n",
       "6532181  Fabbricazione di pitture, vernici e smalti, in...   \n",
       "3838493       Altre attività di servizi per la persona nca   \n",
       "6462705                                           Alberghi   \n",
       "6803357                           Assicurazioni sulla vita   \n",
       "...                                                    ...   \n",
       "8784346                      Altre attività di pulizia nca   \n",
       "4176633                       Servizi di vigilanza privata   \n",
       "4817178          Riparazione di carrozzerie di autoveicoli   \n",
       "4512593             Trattamento e rivestimento dei metalli   \n",
       "5840160  Attività di famiglie e convivenze come datori ...   \n",
       "\n",
       "                                              TITOLOSTUDIO  \\\n",
       "5823722  DIPLOMA DI ISTRUZIONE SECONDARIA SUPERIORE  CH...   \n",
       "6532181                            NESSUN TITOLO DI STUDIO   \n",
       "3838493                                 LICENZA ELEMENTARE   \n",
       "6462705                            NESSUN TITOLO DI STUDIO   \n",
       "6803357                            NESSUN TITOLO DI STUDIO   \n",
       "...                                                    ...   \n",
       "8784346                            NESSUN TITOLO DI STUDIO   \n",
       "4176633                            NESSUN TITOLO DI STUDIO   \n",
       "4817178                            NESSUN TITOLO DI STUDIO   \n",
       "4512593  TITOLO DI ISTRUZIONE SECONDARIA SUPERIORE (SCO...   \n",
       "5840160                            NESSUN TITOLO DI STUDIO   \n",
       "\n",
       "                                                 CONTRATTO  \\\n",
       "5823722                       LAVORO A TEMPO INDETERMINATO   \n",
       "6532181                       LAVORO A TEMPO INDETERMINATO   \n",
       "3838493                         LAVORO A TEMPO DETERMINATO   \n",
       "6462705                         LAVORO A TEMPO DETERMINATO   \n",
       "6803357                         LAVORO A TEMPO DETERMINATO   \n",
       "...                                                    ...   \n",
       "8784346                         LAVORO A TEMPO DETERMINATO   \n",
       "4176633           LAVORO INTERMITTENTE A TEMPO DETERMINATO   \n",
       "4817178                         LAVORO A TEMPO DETERMINATO   \n",
       "4512593  LAVORO INTERINALE (O A SCOPO DI SOMMINISTRAZIO...   \n",
       "5840160             LAVORO DOMESTICO A TEMPO INDETERMINATO   \n",
       "\n",
       "                     MODALITALAVORO PROVINCIAIMPRESA  ITALIANO  \n",
       "5823722                 TEMPO PIENO           MILANO    ITALIA  \n",
       "6532181                 TEMPO PIENO          BRESCIA    ITALIA  \n",
       "3838493  TEMPO PARZIALE ORIZZONTALE           MILANO  PAKISTAN  \n",
       "6462705                 TEMPO PIENO           MILANO     SUDAN  \n",
       "6803357  TEMPO PARZIALE ORIZZONTALE             COMO    ITALIA  \n",
       "...                             ...              ...       ...  \n",
       "8784346  TEMPO PARZIALE ORIZZONTALE  MONZA E BRIANZA    EGITTO  \n",
       "4176633                 TEMPO PIENO  MONZA E BRIANZA    ITALIA  \n",
       "4817178                 TEMPO PIENO            PAVIA    ITALIA  \n",
       "4512593                         NaN           MILANO   SENEGAL  \n",
       "5840160  TEMPO PARZIALE ORIZZONTALE           MILANO     SIRIA  \n",
       "\n",
       "[9579794 rows x 9 columns]"
      ]
     },
     "execution_count": 7,
     "metadata": {},
     "output_type": "execute_result"
    }
   ],
   "source": [
    "## Anomalie età\n",
    "df_rapporti_attivati.sort_values(by=['ETA'])"
   ]
  },
  {
   "cell_type": "code",
   "execution_count": 8,
   "id": "18f81a56",
   "metadata": {
    "cell_style": "split",
    "scrolled": true,
    "slideshow": {
     "slide_type": "fragment"
    }
   },
   "outputs": [
    {
     "data": {
      "text/html": [
       "<div>\n",
       "<style scoped>\n",
       "    .dataframe tbody tr th:only-of-type {\n",
       "        vertical-align: middle;\n",
       "    }\n",
       "\n",
       "    .dataframe tbody tr th {\n",
       "        vertical-align: top;\n",
       "    }\n",
       "\n",
       "    .dataframe thead th {\n",
       "        text-align: right;\n",
       "    }\n",
       "</style>\n",
       "<table border=\"1\" class=\"dataframe\">\n",
       "  <thead>\n",
       "    <tr style=\"text-align: right;\">\n",
       "      <th></th>\n",
       "      <th>DATA</th>\n",
       "      <th>GENERE</th>\n",
       "      <th>ETA</th>\n",
       "      <th>SETTOREECONOMICODETTAGLIO</th>\n",
       "      <th>TITOLOSTUDIO</th>\n",
       "      <th>CONTRATTO</th>\n",
       "      <th>MODALITALAVORO</th>\n",
       "      <th>PROVINCIAIMPRESA</th>\n",
       "      <th>ITALIANO</th>\n",
       "    </tr>\n",
       "  </thead>\n",
       "  <tbody>\n",
       "    <tr>\n",
       "      <th>1429130</th>\n",
       "      <td>08/02/2021</td>\n",
       "      <td>M</td>\n",
       "      <td>0</td>\n",
       "      <td>Altre attività di lavori specializzati di cost...</td>\n",
       "      <td>TITOLO DI ISTRUZIONE SECONDARIA SUPERIORE (SCO...</td>\n",
       "      <td>LAVORO A TEMPO DETERMINATO</td>\n",
       "      <td>TEMPO PIENO</td>\n",
       "      <td>MONZA E BRIANZA</td>\n",
       "      <td>ITALIA</td>\n",
       "    </tr>\n",
       "    <tr>\n",
       "      <th>1418101</th>\n",
       "      <td>05/09/2011</td>\n",
       "      <td>M</td>\n",
       "      <td>0</td>\n",
       "      <td>Ristorazione con somministrazione</td>\n",
       "      <td>TITOLO DI ISTRUZIONE SECONDARIA SUPERIORE (SCO...</td>\n",
       "      <td>LAVORO A TEMPO DETERMINATO</td>\n",
       "      <td>TEMPO PIENO</td>\n",
       "      <td>MILANO</td>\n",
       "      <td>RUSSA, Federazione</td>\n",
       "    </tr>\n",
       "    <tr>\n",
       "      <th>3375794</th>\n",
       "      <td>10/04/2021</td>\n",
       "      <td>M</td>\n",
       "      <td>0</td>\n",
       "      <td>Ospedali e case di cura specialistici</td>\n",
       "      <td>DIPLOMA DI ISTRUZIONE SECONDARIA SUPERIORE  CH...</td>\n",
       "      <td>LAVORO A TEMPO DETERMINATO</td>\n",
       "      <td>TEMPO PIENO</td>\n",
       "      <td>MILANO</td>\n",
       "      <td>ITALIA</td>\n",
       "    </tr>\n",
       "    <tr>\n",
       "      <th>165760</th>\n",
       "      <td>02/02/2016</td>\n",
       "      <td>M</td>\n",
       "      <td>0</td>\n",
       "      <td>Altre attività connesse ai trasporti terrestri...</td>\n",
       "      <td>DIPLOMA DI ISTRUZIONE SECONDARIA SUPERIORE  CH...</td>\n",
       "      <td>LAVORO A TEMPO DETERMINATO</td>\n",
       "      <td>TEMPO PARZIALE ORIZZONTALE</td>\n",
       "      <td>MILANO</td>\n",
       "      <td>ITALIA</td>\n",
       "    </tr>\n",
       "    <tr>\n",
       "      <th>1069168</th>\n",
       "      <td>06/10/2015</td>\n",
       "      <td>M</td>\n",
       "      <td>0</td>\n",
       "      <td>Imballaggio e confezionamento di generi alimen...</td>\n",
       "      <td>TITOLO DI ISTRUZIONE SECONDARIA SUPERIORE (SCO...</td>\n",
       "      <td>LAVORO A TEMPO INDETERMINATO</td>\n",
       "      <td>TEMPO PARZIALE ORIZZONTALE</td>\n",
       "      <td>MILANO</td>\n",
       "      <td>MAROCCO</td>\n",
       "    </tr>\n",
       "    <tr>\n",
       "      <th>...</th>\n",
       "      <td>...</td>\n",
       "      <td>...</td>\n",
       "      <td>...</td>\n",
       "      <td>...</td>\n",
       "      <td>...</td>\n",
       "      <td>...</td>\n",
       "      <td>...</td>\n",
       "      <td>...</td>\n",
       "      <td>...</td>\n",
       "    </tr>\n",
       "    <tr>\n",
       "      <th>3374432</th>\n",
       "      <td>05/03/2010</td>\n",
       "      <td>M</td>\n",
       "      <td>110</td>\n",
       "      <td>Edizione di altri software a pacchetto (esclus...</td>\n",
       "      <td>NESSUN TITOLO DI STUDIO</td>\n",
       "      <td>LAVORO A TEMPO INDETERMINATO</td>\n",
       "      <td>TEMPO PIENO</td>\n",
       "      <td>MILANO</td>\n",
       "      <td>ITALIA</td>\n",
       "    </tr>\n",
       "    <tr>\n",
       "      <th>1657709</th>\n",
       "      <td>10/07/2010</td>\n",
       "      <td>F</td>\n",
       "      <td>110</td>\n",
       "      <td>Altra stampa</td>\n",
       "      <td>NESSUN TITOLO DI STUDIO</td>\n",
       "      <td>LAVORO A TEMPO INDETERMINATO</td>\n",
       "      <td>TEMPO PIENO</td>\n",
       "      <td>MILANO</td>\n",
       "      <td>ITALIA</td>\n",
       "    </tr>\n",
       "    <tr>\n",
       "      <th>2730033</th>\n",
       "      <td>07/05/2010</td>\n",
       "      <td>F</td>\n",
       "      <td>110</td>\n",
       "      <td>Altre strutture di assistenza sociale residenz...</td>\n",
       "      <td>DIPLOMA DI ISTRUZIONE SECONDARIA SUPERIORE  CH...</td>\n",
       "      <td>LAVORO A TEMPO INDETERMINATO</td>\n",
       "      <td>TEMPO PIENO</td>\n",
       "      <td>MONZA E BRIANZA</td>\n",
       "      <td>ITALIA</td>\n",
       "    </tr>\n",
       "    <tr>\n",
       "      <th>1260482</th>\n",
       "      <td>08/04/2010</td>\n",
       "      <td>M</td>\n",
       "      <td>110</td>\n",
       "      <td>Attività degli studi di ingegneria</td>\n",
       "      <td>DIPLOMA DI ISTRUZIONE SECONDARIA SUPERIORE  CH...</td>\n",
       "      <td>LAVORO A TEMPO INDETERMINATO</td>\n",
       "      <td>TEMPO PIENO</td>\n",
       "      <td>MILANO</td>\n",
       "      <td>ITALIA</td>\n",
       "    </tr>\n",
       "    <tr>\n",
       "      <th>1269413</th>\n",
       "      <td>12/11/2600</td>\n",
       "      <td>M</td>\n",
       "      <td>621</td>\n",
       "      <td>Fabbricazione di imballaggi in legno</td>\n",
       "      <td>NESSUN TITOLO DI STUDIO</td>\n",
       "      <td>LAVORO A TEMPO DETERMINATO</td>\n",
       "      <td>TEMPO PIENO</td>\n",
       "      <td>MANTOVA</td>\n",
       "      <td>GHANA</td>\n",
       "    </tr>\n",
       "  </tbody>\n",
       "</table>\n",
       "<p>3741394 rows × 9 columns</p>\n",
       "</div>"
      ],
      "text/plain": [
       "               DATA GENERE  ETA  \\\n",
       "1429130  08/02/2021      M    0   \n",
       "1418101  05/09/2011      M    0   \n",
       "3375794  10/04/2021      M    0   \n",
       "165760   02/02/2016      M    0   \n",
       "1069168  06/10/2015      M    0   \n",
       "...             ...    ...  ...   \n",
       "3374432  05/03/2010      M  110   \n",
       "1657709  10/07/2010      F  110   \n",
       "2730033  07/05/2010      F  110   \n",
       "1260482  08/04/2010      M  110   \n",
       "1269413  12/11/2600      M  621   \n",
       "\n",
       "                                 SETTOREECONOMICODETTAGLIO  \\\n",
       "1429130  Altre attività di lavori specializzati di cost...   \n",
       "1418101                  Ristorazione con somministrazione   \n",
       "3375794              Ospedali e case di cura specialistici   \n",
       "165760   Altre attività connesse ai trasporti terrestri...   \n",
       "1069168  Imballaggio e confezionamento di generi alimen...   \n",
       "...                                                    ...   \n",
       "3374432  Edizione di altri software a pacchetto (esclus...   \n",
       "1657709                                       Altra stampa   \n",
       "2730033  Altre strutture di assistenza sociale residenz...   \n",
       "1260482                 Attività degli studi di ingegneria   \n",
       "1269413               Fabbricazione di imballaggi in legno   \n",
       "\n",
       "                                              TITOLOSTUDIO  \\\n",
       "1429130  TITOLO DI ISTRUZIONE SECONDARIA SUPERIORE (SCO...   \n",
       "1418101  TITOLO DI ISTRUZIONE SECONDARIA SUPERIORE (SCO...   \n",
       "3375794  DIPLOMA DI ISTRUZIONE SECONDARIA SUPERIORE  CH...   \n",
       "165760   DIPLOMA DI ISTRUZIONE SECONDARIA SUPERIORE  CH...   \n",
       "1069168  TITOLO DI ISTRUZIONE SECONDARIA SUPERIORE (SCO...   \n",
       "...                                                    ...   \n",
       "3374432                            NESSUN TITOLO DI STUDIO   \n",
       "1657709                            NESSUN TITOLO DI STUDIO   \n",
       "2730033  DIPLOMA DI ISTRUZIONE SECONDARIA SUPERIORE  CH...   \n",
       "1260482  DIPLOMA DI ISTRUZIONE SECONDARIA SUPERIORE  CH...   \n",
       "1269413                            NESSUN TITOLO DI STUDIO   \n",
       "\n",
       "                            CONTRATTO              MODALITALAVORO  \\\n",
       "1429130    LAVORO A TEMPO DETERMINATO                 TEMPO PIENO   \n",
       "1418101    LAVORO A TEMPO DETERMINATO                 TEMPO PIENO   \n",
       "3375794    LAVORO A TEMPO DETERMINATO                 TEMPO PIENO   \n",
       "165760     LAVORO A TEMPO DETERMINATO  TEMPO PARZIALE ORIZZONTALE   \n",
       "1069168  LAVORO A TEMPO INDETERMINATO  TEMPO PARZIALE ORIZZONTALE   \n",
       "...                               ...                         ...   \n",
       "3374432  LAVORO A TEMPO INDETERMINATO                 TEMPO PIENO   \n",
       "1657709  LAVORO A TEMPO INDETERMINATO                 TEMPO PIENO   \n",
       "2730033  LAVORO A TEMPO INDETERMINATO                 TEMPO PIENO   \n",
       "1260482  LAVORO A TEMPO INDETERMINATO                 TEMPO PIENO   \n",
       "1269413    LAVORO A TEMPO DETERMINATO                 TEMPO PIENO   \n",
       "\n",
       "        PROVINCIAIMPRESA            ITALIANO  \n",
       "1429130  MONZA E BRIANZA              ITALIA  \n",
       "1418101           MILANO  RUSSA, Federazione  \n",
       "3375794           MILANO              ITALIA  \n",
       "165760            MILANO              ITALIA  \n",
       "1069168           MILANO             MAROCCO  \n",
       "...                  ...                 ...  \n",
       "3374432           MILANO              ITALIA  \n",
       "1657709           MILANO              ITALIA  \n",
       "2730033  MONZA E BRIANZA              ITALIA  \n",
       "1260482           MILANO              ITALIA  \n",
       "1269413          MANTOVA               GHANA  \n",
       "\n",
       "[3741394 rows x 9 columns]"
      ]
     },
     "execution_count": 8,
     "metadata": {},
     "output_type": "execute_result"
    }
   ],
   "source": [
    "## Anomalie età\n",
    "df_rapporti_cessati.sort_values(by=['ETA'])"
   ]
  },
  {
   "cell_type": "code",
   "execution_count": 9,
   "id": "74e4321f",
   "metadata": {
    "cell_style": "split",
    "slideshow": {
     "slide_type": "subslide"
    }
   },
   "outputs": [
    {
     "data": {
      "text/plain": [
       "DATA                              0\n",
       "GENERE                            0\n",
       "ETA                               0\n",
       "SETTOREECONOMICODETTAGLIO      2888\n",
       "TITOLOSTUDIO                    580\n",
       "CONTRATTO                         0\n",
       "MODALITALAVORO               440779\n",
       "PROVINCIAIMPRESA                  0\n",
       "ITALIANO                          0\n",
       "dtype: int64"
      ]
     },
     "execution_count": 9,
     "metadata": {},
     "output_type": "execute_result"
    }
   ],
   "source": [
    "# dati nulli rapporti attivati\n",
    "df_rapporti_attivati.isnull().sum()"
   ]
  },
  {
   "cell_type": "code",
   "execution_count": 10,
   "id": "10397e53",
   "metadata": {
    "cell_style": "split",
    "slideshow": {
     "slide_type": "fragment"
    }
   },
   "outputs": [
    {
     "data": {
      "text/plain": [
       "DATA                            0\n",
       "GENERE                          0\n",
       "ETA                             0\n",
       "SETTOREECONOMICODETTAGLIO    1019\n",
       "TITOLOSTUDIO                  440\n",
       "CONTRATTO                       0\n",
       "MODALITALAVORO                  0\n",
       "PROVINCIAIMPRESA                0\n",
       "ITALIANO                        0\n",
       "dtype: int64"
      ]
     },
     "execution_count": 10,
     "metadata": {},
     "output_type": "execute_result"
    }
   ],
   "source": [
    "# dati nulli rapporti cessati\n",
    "df_rapporti_cessati.isnull().sum()"
   ]
  },
  {
   "cell_type": "markdown",
   "id": "65f47825",
   "metadata": {
    "slideshow": {
     "slide_type": "slide"
    }
   },
   "source": [
    "<h1>\n",
    "<p style=\"text-align: center;\"> PULIZIA DEI DATI </p></h1>\n",
    "\n",
    "La pulizia dei dati è stata utilizzata per rimuovere dal dataset variabili inconsistenti ed errate\n",
    "\n",
    "<center>\n",
    "<img src=\"img_4.png\" height= \"500\" width=\"500\" align=\"middle\">\n",
    "</center>"
   ]
  },
  {
   "cell_type": "code",
   "execution_count": 11,
   "id": "e998f539",
   "metadata": {
    "slideshow": {
     "slide_type": "skip"
    }
   },
   "outputs": [],
   "source": [
    "dropAge = df_rapporti_attivati[(df_rapporti_attivati['ETA'] >= 70) | (df_rapporti_attivati['ETA'] <= 17)].index\n",
    "dropAgeC = df_rapporti_cessati[(df_rapporti_cessati['ETA'] >= 70) | (df_rapporti_cessati['ETA'] <= 17)].index\n",
    "\n",
    "df_rapporti_attivati.drop(dropAge, inplace=True)\n",
    "df_rapporti_cessati.drop(dropAgeC, inplace=True)"
   ]
  },
  {
   "cell_type": "code",
   "execution_count": 12,
   "id": "372e411e",
   "metadata": {
    "cell_style": "split",
    "scrolled": true,
    "slideshow": {
     "slide_type": "subslide"
    }
   },
   "outputs": [
    {
     "data": {
      "text/html": [
       "<div>\n",
       "<style scoped>\n",
       "    .dataframe tbody tr th:only-of-type {\n",
       "        vertical-align: middle;\n",
       "    }\n",
       "\n",
       "    .dataframe tbody tr th {\n",
       "        vertical-align: top;\n",
       "    }\n",
       "\n",
       "    .dataframe thead th {\n",
       "        text-align: right;\n",
       "    }\n",
       "</style>\n",
       "<table border=\"1\" class=\"dataframe\">\n",
       "  <thead>\n",
       "    <tr style=\"text-align: right;\">\n",
       "      <th></th>\n",
       "      <th>DATA</th>\n",
       "      <th>GENERE</th>\n",
       "      <th>ETA</th>\n",
       "      <th>SETTOREECONOMICODETTAGLIO</th>\n",
       "      <th>TITOLOSTUDIO</th>\n",
       "      <th>CONTRATTO</th>\n",
       "      <th>MODALITALAVORO</th>\n",
       "      <th>PROVINCIAIMPRESA</th>\n",
       "      <th>ITALIANO</th>\n",
       "    </tr>\n",
       "  </thead>\n",
       "  <tbody>\n",
       "    <tr>\n",
       "      <th>574106</th>\n",
       "      <td>02/10/2010</td>\n",
       "      <td>F</td>\n",
       "      <td>18</td>\n",
       "      <td>Attività delle lavanderie industriali</td>\n",
       "      <td>LICENZA MEDIA</td>\n",
       "      <td>LAVORO INTERINALE (O A SCOPO DI SOMMINISTRAZIO...</td>\n",
       "      <td>NaN</td>\n",
       "      <td>BRESCIA</td>\n",
       "      <td>ROMANIA</td>\n",
       "    </tr>\n",
       "    <tr>\n",
       "      <th>9019587</th>\n",
       "      <td>10/10/2019</td>\n",
       "      <td>M</td>\n",
       "      <td>18</td>\n",
       "      <td>Realizzazione di coperture</td>\n",
       "      <td>TITOLO DI ISTRUZIONE SECONDARIA SUPERIORE (SCO...</td>\n",
       "      <td>TIROCINIO</td>\n",
       "      <td>TEMPO PIENO</td>\n",
       "      <td>COMO</td>\n",
       "      <td>ITALIA</td>\n",
       "    </tr>\n",
       "    <tr>\n",
       "      <th>4810597</th>\n",
       "      <td>08/07/2009</td>\n",
       "      <td>F</td>\n",
       "      <td>18</td>\n",
       "      <td>Attività dei call center</td>\n",
       "      <td>TITOLO DI ISTRUZIONE SECONDARIA SUPERIORE (SCO...</td>\n",
       "      <td>LAVORO A TEMPO DETERMINATO</td>\n",
       "      <td>TEMPO PIENO</td>\n",
       "      <td>MILANO</td>\n",
       "      <td>ITALIA</td>\n",
       "    </tr>\n",
       "    <tr>\n",
       "      <th>4810587</th>\n",
       "      <td>01/12/2012</td>\n",
       "      <td>F</td>\n",
       "      <td>18</td>\n",
       "      <td>Attività dei call center</td>\n",
       "      <td>NESSUN TITOLO DI STUDIO</td>\n",
       "      <td>LAVORO A PROGETTO / COLLABORAZIONE COORDINATA ...</td>\n",
       "      <td>NON DEFINITO</td>\n",
       "      <td>MILANO</td>\n",
       "      <td>ITALIA</td>\n",
       "    </tr>\n",
       "    <tr>\n",
       "      <th>8420788</th>\n",
       "      <td>09/08/2011</td>\n",
       "      <td>F</td>\n",
       "      <td>18</td>\n",
       "      <td>Ristorazione con somministrazione</td>\n",
       "      <td>DIPLOMA DI ISTRUZIONE SECONDARIA SUPERIORE  CH...</td>\n",
       "      <td>LAVORO INTERMITTENTE A TEMPO DETERMINATO</td>\n",
       "      <td>TEMPO PARZIALE ORIZZONTALE</td>\n",
       "      <td>MILANO</td>\n",
       "      <td>ITALIA</td>\n",
       "    </tr>\n",
       "    <tr>\n",
       "      <th>...</th>\n",
       "      <td>...</td>\n",
       "      <td>...</td>\n",
       "      <td>...</td>\n",
       "      <td>...</td>\n",
       "      <td>...</td>\n",
       "      <td>...</td>\n",
       "      <td>...</td>\n",
       "      <td>...</td>\n",
       "      <td>...</td>\n",
       "    </tr>\n",
       "    <tr>\n",
       "      <th>7591286</th>\n",
       "      <td>01/07/2011</td>\n",
       "      <td>F</td>\n",
       "      <td>69</td>\n",
       "      <td>Fabbricazione di lastre, fogli, tubi e profila...</td>\n",
       "      <td>TITOLO DI ISTRUZIONE SECONDARIA SUPERIORE (SCO...</td>\n",
       "      <td>LAVORO A PROGETTO / COLLABORAZIONE COORDINATA ...</td>\n",
       "      <td>NON DEFINITO</td>\n",
       "      <td>MILANO</td>\n",
       "      <td>ITALIA</td>\n",
       "    </tr>\n",
       "    <tr>\n",
       "      <th>9416762</th>\n",
       "      <td>10/02/2017</td>\n",
       "      <td>M</td>\n",
       "      <td>69</td>\n",
       "      <td>Trattamento e rivestimento dei metalli</td>\n",
       "      <td>TITOLO DI ISTRUZIONE SECONDARIA SUPERIORE (SCO...</td>\n",
       "      <td>LAVORO A TEMPO INDETERMINATO</td>\n",
       "      <td>TEMPO PARZIALE ORIZZONTALE</td>\n",
       "      <td>VARESE</td>\n",
       "      <td>ITALIA</td>\n",
       "    </tr>\n",
       "    <tr>\n",
       "      <th>3779524</th>\n",
       "      <td>09/04/2009</td>\n",
       "      <td>F</td>\n",
       "      <td>69</td>\n",
       "      <td>Istruzione primaria: scuole elementari</td>\n",
       "      <td>DIPLOMA DI ISTRUZIONE SECONDARIA SUPERIORE  CH...</td>\n",
       "      <td>LAVORO A PROGETTO / COLLABORAZIONE COORDINATA ...</td>\n",
       "      <td>NON DEFINITO</td>\n",
       "      <td>MILANO</td>\n",
       "      <td>ITALIA</td>\n",
       "    </tr>\n",
       "    <tr>\n",
       "      <th>3783870</th>\n",
       "      <td>02/07/2014</td>\n",
       "      <td>F</td>\n",
       "      <td>69</td>\n",
       "      <td>Ricerche di mercato e sondaggi di opinione</td>\n",
       "      <td>NESSUN TITOLO DI STUDIO</td>\n",
       "      <td>LAVORO A PROGETTO / COLLABORAZIONE COORDINATA ...</td>\n",
       "      <td>NON DEFINITO</td>\n",
       "      <td>MILANO</td>\n",
       "      <td>ITALIA</td>\n",
       "    </tr>\n",
       "    <tr>\n",
       "      <th>4580753</th>\n",
       "      <td>02/12/2018</td>\n",
       "      <td>F</td>\n",
       "      <td>69</td>\n",
       "      <td>Attività di famiglie e convivenze come datori ...</td>\n",
       "      <td>NESSUN TITOLO DI STUDIO</td>\n",
       "      <td>LAVORO DOMESTICO</td>\n",
       "      <td>TEMPO PIENO</td>\n",
       "      <td>VARESE</td>\n",
       "      <td>UCRAINA</td>\n",
       "    </tr>\n",
       "  </tbody>\n",
       "</table>\n",
       "<p>9497635 rows × 9 columns</p>\n",
       "</div>"
      ],
      "text/plain": [
       "               DATA GENERE  ETA  \\\n",
       "574106   02/10/2010      F   18   \n",
       "9019587  10/10/2019      M   18   \n",
       "4810597  08/07/2009      F   18   \n",
       "4810587  01/12/2012      F   18   \n",
       "8420788  09/08/2011      F   18   \n",
       "...             ...    ...  ...   \n",
       "7591286  01/07/2011      F   69   \n",
       "9416762  10/02/2017      M   69   \n",
       "3779524  09/04/2009      F   69   \n",
       "3783870  02/07/2014      F   69   \n",
       "4580753  02/12/2018      F   69   \n",
       "\n",
       "                                 SETTOREECONOMICODETTAGLIO  \\\n",
       "574106               Attività delle lavanderie industriali   \n",
       "9019587                         Realizzazione di coperture   \n",
       "4810597                           Attività dei call center   \n",
       "4810587                           Attività dei call center   \n",
       "8420788                  Ristorazione con somministrazione   \n",
       "...                                                    ...   \n",
       "7591286  Fabbricazione di lastre, fogli, tubi e profila...   \n",
       "9416762             Trattamento e rivestimento dei metalli   \n",
       "3779524             Istruzione primaria: scuole elementari   \n",
       "3783870         Ricerche di mercato e sondaggi di opinione   \n",
       "4580753  Attività di famiglie e convivenze come datori ...   \n",
       "\n",
       "                                              TITOLOSTUDIO  \\\n",
       "574106                                       LICENZA MEDIA   \n",
       "9019587  TITOLO DI ISTRUZIONE SECONDARIA SUPERIORE (SCO...   \n",
       "4810597  TITOLO DI ISTRUZIONE SECONDARIA SUPERIORE (SCO...   \n",
       "4810587                            NESSUN TITOLO DI STUDIO   \n",
       "8420788  DIPLOMA DI ISTRUZIONE SECONDARIA SUPERIORE  CH...   \n",
       "...                                                    ...   \n",
       "7591286  TITOLO DI ISTRUZIONE SECONDARIA SUPERIORE (SCO...   \n",
       "9416762  TITOLO DI ISTRUZIONE SECONDARIA SUPERIORE (SCO...   \n",
       "3779524  DIPLOMA DI ISTRUZIONE SECONDARIA SUPERIORE  CH...   \n",
       "3783870                            NESSUN TITOLO DI STUDIO   \n",
       "4580753                            NESSUN TITOLO DI STUDIO   \n",
       "\n",
       "                                                 CONTRATTO  \\\n",
       "574106   LAVORO INTERINALE (O A SCOPO DI SOMMINISTRAZIO...   \n",
       "9019587                                          TIROCINIO   \n",
       "4810597                         LAVORO A TEMPO DETERMINATO   \n",
       "4810587  LAVORO A PROGETTO / COLLABORAZIONE COORDINATA ...   \n",
       "8420788           LAVORO INTERMITTENTE A TEMPO DETERMINATO   \n",
       "...                                                    ...   \n",
       "7591286  LAVORO A PROGETTO / COLLABORAZIONE COORDINATA ...   \n",
       "9416762                       LAVORO A TEMPO INDETERMINATO   \n",
       "3779524  LAVORO A PROGETTO / COLLABORAZIONE COORDINATA ...   \n",
       "3783870  LAVORO A PROGETTO / COLLABORAZIONE COORDINATA ...   \n",
       "4580753                                   LAVORO DOMESTICO   \n",
       "\n",
       "                     MODALITALAVORO PROVINCIAIMPRESA ITALIANO  \n",
       "574106                          NaN          BRESCIA  ROMANIA  \n",
       "9019587                 TEMPO PIENO             COMO   ITALIA  \n",
       "4810597                 TEMPO PIENO           MILANO   ITALIA  \n",
       "4810587                NON DEFINITO           MILANO   ITALIA  \n",
       "8420788  TEMPO PARZIALE ORIZZONTALE           MILANO   ITALIA  \n",
       "...                             ...              ...      ...  \n",
       "7591286                NON DEFINITO           MILANO   ITALIA  \n",
       "9416762  TEMPO PARZIALE ORIZZONTALE           VARESE   ITALIA  \n",
       "3779524                NON DEFINITO           MILANO   ITALIA  \n",
       "3783870                NON DEFINITO           MILANO   ITALIA  \n",
       "4580753                 TEMPO PIENO           VARESE  UCRAINA  \n",
       "\n",
       "[9497635 rows x 9 columns]"
      ]
     },
     "execution_count": 12,
     "metadata": {},
     "output_type": "execute_result"
    }
   ],
   "source": [
    "# Eliminazione anomalie età\n",
    "df_rapporti_attivati.sort_values(by=['ETA'])"
   ]
  },
  {
   "cell_type": "code",
   "execution_count": 13,
   "id": "ebdcc815",
   "metadata": {
    "cell_style": "split",
    "scrolled": true,
    "slideshow": {
     "slide_type": "fragment"
    }
   },
   "outputs": [
    {
     "data": {
      "text/html": [
       "<div>\n",
       "<style scoped>\n",
       "    .dataframe tbody tr th:only-of-type {\n",
       "        vertical-align: middle;\n",
       "    }\n",
       "\n",
       "    .dataframe tbody tr th {\n",
       "        vertical-align: top;\n",
       "    }\n",
       "\n",
       "    .dataframe thead th {\n",
       "        text-align: right;\n",
       "    }\n",
       "</style>\n",
       "<table border=\"1\" class=\"dataframe\">\n",
       "  <thead>\n",
       "    <tr style=\"text-align: right;\">\n",
       "      <th></th>\n",
       "      <th>DATA</th>\n",
       "      <th>GENERE</th>\n",
       "      <th>ETA</th>\n",
       "      <th>SETTOREECONOMICODETTAGLIO</th>\n",
       "      <th>TITOLOSTUDIO</th>\n",
       "      <th>CONTRATTO</th>\n",
       "      <th>MODALITALAVORO</th>\n",
       "      <th>PROVINCIAIMPRESA</th>\n",
       "      <th>ITALIANO</th>\n",
       "    </tr>\n",
       "  </thead>\n",
       "  <tbody>\n",
       "    <tr>\n",
       "      <th>3476311</th>\n",
       "      <td>04/09/2013</td>\n",
       "      <td>F</td>\n",
       "      <td>18</td>\n",
       "      <td>Altri lavori di completamento e di finitura de...</td>\n",
       "      <td>LICENZA MEDIA</td>\n",
       "      <td>LAVORO A TEMPO INDETERMINATO</td>\n",
       "      <td>TEMPO PIENO</td>\n",
       "      <td>CREMONA</td>\n",
       "      <td>ROMANIA</td>\n",
       "    </tr>\n",
       "    <tr>\n",
       "      <th>577033</th>\n",
       "      <td>06/07/2019</td>\n",
       "      <td>M</td>\n",
       "      <td>18</td>\n",
       "      <td>Alberghi</td>\n",
       "      <td>NESSUN TITOLO DI STUDIO</td>\n",
       "      <td>LAVORO A TEMPO DETERMINATO</td>\n",
       "      <td>TEMPO PIENO</td>\n",
       "      <td>MILANO</td>\n",
       "      <td>ROMANIA</td>\n",
       "    </tr>\n",
       "    <tr>\n",
       "      <th>577000</th>\n",
       "      <td>12/12/2018</td>\n",
       "      <td>M</td>\n",
       "      <td>18</td>\n",
       "      <td>Ristorazione con somministrazione</td>\n",
       "      <td>LICENZA MEDIA</td>\n",
       "      <td>APPRENDISTATO PROFESSIONALIZZANTE O CONTRATTO ...</td>\n",
       "      <td>TEMPO PIENO</td>\n",
       "      <td>MILANO</td>\n",
       "      <td>BANGLADESH</td>\n",
       "    </tr>\n",
       "    <tr>\n",
       "      <th>1602639</th>\n",
       "      <td>08/07/2009</td>\n",
       "      <td>M</td>\n",
       "      <td>18</td>\n",
       "      <td>Fabbricazione di stampi, portastampi, sagome, ...</td>\n",
       "      <td>LICENZA MEDIA</td>\n",
       "      <td>APPRENDISTATO EX ART.16 L. 196/97</td>\n",
       "      <td>TEMPO PIENO</td>\n",
       "      <td>BERGAMO</td>\n",
       "      <td>ITALIA</td>\n",
       "    </tr>\n",
       "    <tr>\n",
       "      <th>1602667</th>\n",
       "      <td>12/11/2019</td>\n",
       "      <td>M</td>\n",
       "      <td>18</td>\n",
       "      <td>Fabbricazione di altri prodotti in gomma nca</td>\n",
       "      <td>LICENZA MEDIA</td>\n",
       "      <td>LAVORO A TEMPO DETERMINATO</td>\n",
       "      <td>TEMPO PIENO</td>\n",
       "      <td>BERGAMO</td>\n",
       "      <td>MACEDONIA, ex REP. JUGOSLAVIA</td>\n",
       "    </tr>\n",
       "    <tr>\n",
       "      <th>...</th>\n",
       "      <td>...</td>\n",
       "      <td>...</td>\n",
       "      <td>...</td>\n",
       "      <td>...</td>\n",
       "      <td>...</td>\n",
       "      <td>...</td>\n",
       "      <td>...</td>\n",
       "      <td>...</td>\n",
       "      <td>...</td>\n",
       "    </tr>\n",
       "    <tr>\n",
       "      <th>2323258</th>\n",
       "      <td>10/11/2018</td>\n",
       "      <td>M</td>\n",
       "      <td>69</td>\n",
       "      <td>Riparazione e manutenzione di altre macchine d...</td>\n",
       "      <td>LICENZA MEDIA</td>\n",
       "      <td>LAVORO A TEMPO INDETERMINATO</td>\n",
       "      <td>TEMPO PIENO</td>\n",
       "      <td>COMO</td>\n",
       "      <td>ITALIA</td>\n",
       "    </tr>\n",
       "    <tr>\n",
       "      <th>2006698</th>\n",
       "      <td>05/04/2015</td>\n",
       "      <td>M</td>\n",
       "      <td>69</td>\n",
       "      <td>Attività non specializzate di lavori edili (mu...</td>\n",
       "      <td>DIPLOMA DI ISTRUZIONE SECONDARIA SUPERIORE  CH...</td>\n",
       "      <td>LAVORO A TEMPO INDETERMINATO</td>\n",
       "      <td>TEMPO PARZIALE ORIZZONTALE</td>\n",
       "      <td>MILANO</td>\n",
       "      <td>ITALIA</td>\n",
       "    </tr>\n",
       "    <tr>\n",
       "      <th>3038664</th>\n",
       "      <td>07/02/2014</td>\n",
       "      <td>M</td>\n",
       "      <td>69</td>\n",
       "      <td>Pulizia generale (non specializzata) di edifici</td>\n",
       "      <td>LICENZA MEDIA</td>\n",
       "      <td>LAVORO A TEMPO INDETERMINATO</td>\n",
       "      <td>TEMPO PARZIALE ORIZZONTALE</td>\n",
       "      <td>BRESCIA</td>\n",
       "      <td>MAROCCO</td>\n",
       "    </tr>\n",
       "    <tr>\n",
       "      <th>2989905</th>\n",
       "      <td>05/03/2010</td>\n",
       "      <td>M</td>\n",
       "      <td>69</td>\n",
       "      <td>Altri servizi di supporto alle imprese nca</td>\n",
       "      <td>NESSUN TITOLO DI STUDIO</td>\n",
       "      <td>LAVORO A PROGETTO / COLLABORAZIONE COORDINATA ...</td>\n",
       "      <td>TEMPO PIENO</td>\n",
       "      <td>MILANO</td>\n",
       "      <td>ITALIA</td>\n",
       "    </tr>\n",
       "    <tr>\n",
       "      <th>1743524</th>\n",
       "      <td>12/04/2020</td>\n",
       "      <td>M</td>\n",
       "      <td>69</td>\n",
       "      <td>Fabbricazione di poltrone e divani</td>\n",
       "      <td>NESSUN TITOLO DI STUDIO</td>\n",
       "      <td>LAVORO INTERMITTENTE</td>\n",
       "      <td>NON DEFINITO</td>\n",
       "      <td>COMO</td>\n",
       "      <td>ITALIA</td>\n",
       "    </tr>\n",
       "  </tbody>\n",
       "</table>\n",
       "<p>3710732 rows × 9 columns</p>\n",
       "</div>"
      ],
      "text/plain": [
       "               DATA GENERE  ETA  \\\n",
       "3476311  04/09/2013      F   18   \n",
       "577033   06/07/2019      M   18   \n",
       "577000   12/12/2018      M   18   \n",
       "1602639  08/07/2009      M   18   \n",
       "1602667  12/11/2019      M   18   \n",
       "...             ...    ...  ...   \n",
       "2323258  10/11/2018      M   69   \n",
       "2006698  05/04/2015      M   69   \n",
       "3038664  07/02/2014      M   69   \n",
       "2989905  05/03/2010      M   69   \n",
       "1743524  12/04/2020      M   69   \n",
       "\n",
       "                                 SETTOREECONOMICODETTAGLIO  \\\n",
       "3476311  Altri lavori di completamento e di finitura de...   \n",
       "577033                                            Alberghi   \n",
       "577000                   Ristorazione con somministrazione   \n",
       "1602639  Fabbricazione di stampi, portastampi, sagome, ...   \n",
       "1602667       Fabbricazione di altri prodotti in gomma nca   \n",
       "...                                                    ...   \n",
       "2323258  Riparazione e manutenzione di altre macchine d...   \n",
       "2006698  Attività non specializzate di lavori edili (mu...   \n",
       "3038664    Pulizia generale (non specializzata) di edifici   \n",
       "2989905         Altri servizi di supporto alle imprese nca   \n",
       "1743524                 Fabbricazione di poltrone e divani   \n",
       "\n",
       "                                              TITOLOSTUDIO  \\\n",
       "3476311                                      LICENZA MEDIA   \n",
       "577033                             NESSUN TITOLO DI STUDIO   \n",
       "577000                                       LICENZA MEDIA   \n",
       "1602639                                      LICENZA MEDIA   \n",
       "1602667                                      LICENZA MEDIA   \n",
       "...                                                    ...   \n",
       "2323258                                      LICENZA MEDIA   \n",
       "2006698  DIPLOMA DI ISTRUZIONE SECONDARIA SUPERIORE  CH...   \n",
       "3038664                                      LICENZA MEDIA   \n",
       "2989905                            NESSUN TITOLO DI STUDIO   \n",
       "1743524                            NESSUN TITOLO DI STUDIO   \n",
       "\n",
       "                                                 CONTRATTO  \\\n",
       "3476311                       LAVORO A TEMPO INDETERMINATO   \n",
       "577033                          LAVORO A TEMPO DETERMINATO   \n",
       "577000   APPRENDISTATO PROFESSIONALIZZANTE O CONTRATTO ...   \n",
       "1602639                  APPRENDISTATO EX ART.16 L. 196/97   \n",
       "1602667                         LAVORO A TEMPO DETERMINATO   \n",
       "...                                                    ...   \n",
       "2323258                       LAVORO A TEMPO INDETERMINATO   \n",
       "2006698                       LAVORO A TEMPO INDETERMINATO   \n",
       "3038664                       LAVORO A TEMPO INDETERMINATO   \n",
       "2989905  LAVORO A PROGETTO / COLLABORAZIONE COORDINATA ...   \n",
       "1743524                               LAVORO INTERMITTENTE   \n",
       "\n",
       "                     MODALITALAVORO PROVINCIAIMPRESA  \\\n",
       "3476311                 TEMPO PIENO          CREMONA   \n",
       "577033                  TEMPO PIENO           MILANO   \n",
       "577000                  TEMPO PIENO           MILANO   \n",
       "1602639                 TEMPO PIENO          BERGAMO   \n",
       "1602667                 TEMPO PIENO          BERGAMO   \n",
       "...                             ...              ...   \n",
       "2323258                 TEMPO PIENO             COMO   \n",
       "2006698  TEMPO PARZIALE ORIZZONTALE           MILANO   \n",
       "3038664  TEMPO PARZIALE ORIZZONTALE          BRESCIA   \n",
       "2989905                 TEMPO PIENO           MILANO   \n",
       "1743524                NON DEFINITO             COMO   \n",
       "\n",
       "                              ITALIANO  \n",
       "3476311                        ROMANIA  \n",
       "577033                         ROMANIA  \n",
       "577000                      BANGLADESH  \n",
       "1602639                         ITALIA  \n",
       "1602667  MACEDONIA, ex REP. JUGOSLAVIA  \n",
       "...                                ...  \n",
       "2323258                         ITALIA  \n",
       "2006698                         ITALIA  \n",
       "3038664                        MAROCCO  \n",
       "2989905                         ITALIA  \n",
       "1743524                         ITALIA  \n",
       "\n",
       "[3710732 rows x 9 columns]"
      ]
     },
     "execution_count": 13,
     "metadata": {},
     "output_type": "execute_result"
    }
   ],
   "source": [
    "## Eliminazione anomalie età\n",
    "df_rapporti_cessati.sort_values(by=['ETA'])"
   ]
  },
  {
   "cell_type": "code",
   "execution_count": 14,
   "id": "ae0db66a",
   "metadata": {
    "slideshow": {
     "slide_type": "skip"
    }
   },
   "outputs": [],
   "source": [
    "col = ['DATA', 'GENERE', 'ETA', 'SETTOREECONOMICODETTAGLIO', 'TITOLOSTUDIO', 'CONTRATTO', \n",
    "       'MODALITALAVORO', 'PROVINCIAIMPRESA','ITALIANO']\n",
    "\n",
    "for column in col:\n",
    "    df_rapporti_attivati.loc[df_rapporti_attivati[column] == '?', column] = np.nan\n",
    "    df_rapporti_cessati.loc[df_rapporti_cessati[column] == '?', column] = np.nan\n",
    "\n",
    "df_rapporti_attivati.dropna(axis = 0, inplace = True) \n",
    "df_rapporti_cessati.dropna(axis = 0, inplace = True) "
   ]
  },
  {
   "cell_type": "code",
   "execution_count": 15,
   "id": "2b86b402",
   "metadata": {
    "cell_style": "split",
    "slideshow": {
     "slide_type": "subslide"
    }
   },
   "outputs": [
    {
     "data": {
      "text/plain": [
       "DATA                         0\n",
       "GENERE                       0\n",
       "ETA                          0\n",
       "SETTOREECONOMICODETTAGLIO    0\n",
       "TITOLOSTUDIO                 0\n",
       "CONTRATTO                    0\n",
       "MODALITALAVORO               0\n",
       "PROVINCIAIMPRESA             0\n",
       "ITALIANO                     0\n",
       "dtype: int64"
      ]
     },
     "execution_count": 15,
     "metadata": {},
     "output_type": "execute_result"
    }
   ],
   "source": [
    "# Eliminazione dati nulli\n",
    "df_rapporti_attivati.isnull().sum()"
   ]
  },
  {
   "cell_type": "code",
   "execution_count": 16,
   "id": "9b5fc0a5",
   "metadata": {
    "cell_style": "split",
    "slideshow": {
     "slide_type": "fragment"
    }
   },
   "outputs": [
    {
     "data": {
      "text/plain": [
       "DATA                         0\n",
       "GENERE                       0\n",
       "ETA                          0\n",
       "SETTOREECONOMICODETTAGLIO    0\n",
       "TITOLOSTUDIO                 0\n",
       "CONTRATTO                    0\n",
       "MODALITALAVORO               0\n",
       "PROVINCIAIMPRESA             0\n",
       "ITALIANO                     0\n",
       "dtype: int64"
      ]
     },
     "execution_count": 16,
     "metadata": {},
     "output_type": "execute_result"
    }
   ],
   "source": [
    "# Eliminazione dati nulli\n",
    "df_rapporti_cessati.isnull().sum()"
   ]
  },
  {
   "cell_type": "code",
   "execution_count": 17,
   "id": "979c0747",
   "metadata": {
    "slideshow": {
     "slide_type": "skip"
    }
   },
   "outputs": [],
   "source": [
    "data=df_rapporti_attivati['DATA']\n",
    "\n",
    "year=[]\n",
    "mounth=[]\n",
    "day=[]\n",
    "data_Complete=[]\n",
    "for i in data:\n",
    "    data1=datetime.strptime(i, \"%d/%m/%Y\")\n",
    "    year.append(data1.year)\n",
    "    mounth.append(data1.month)\n",
    "    day.append(data1.day)\n",
    "    data_Complete.append(data1)\n",
    "\n",
    "df_rapporti_attivati.drop(['DATA'], axis=1, inplace=True)\n",
    "\n",
    "df_rapporti_attivati['DATA'] = data_Complete\n",
    "df_rapporti_attivati['YEAR'] = year\n",
    "df_rapporti_attivati['MOUNTH'] = mounth\n",
    "df_rapporti_attivati['DAY'] = day"
   ]
  },
  {
   "cell_type": "code",
   "execution_count": 18,
   "id": "7bda3244",
   "metadata": {
    "slideshow": {
     "slide_type": "skip"
    }
   },
   "outputs": [],
   "source": [
    "dataC=df_rapporti_cessati['DATA']\n",
    "\n",
    "yearC=[]\n",
    "monthC=[]\n",
    "dayC=[]\n",
    "data_CompleteC=[]\n",
    "for i in dataC:\n",
    "    data1C=datetime.strptime(i, \"%d/%m/%Y\")\n",
    "    yearC.append(data1C.year)\n",
    "    monthC.append(data1C.month)\n",
    "    dayC.append(data1C.day)\n",
    "    data_CompleteC.append(data1C)\n",
    "\n",
    "df_rapporti_cessati.drop(['DATA'], axis=1, inplace=True)\n",
    "\n",
    "df_rapporti_cessati['DATA'] = data_CompleteC\n",
    "df_rapporti_cessati['YEAR'] = yearC\n",
    "df_rapporti_cessati['MONTH'] = monthC\n",
    "df_rapporti_cessati['DAY'] = dayC"
   ]
  },
  {
   "cell_type": "markdown",
   "id": "b5cd9686",
   "metadata": {
    "slideshow": {
     "slide_type": "slide"
    }
   },
   "source": [
    "<h1>\n",
    "<p style=\"text-align: center;\"> ANALISI TIME SERIES </p></h1>\n",
    "\n",
    "Le time series sono state analizzate al fine di comprendere meglio il loro comportamento in particolare in termini di \"trend\", \"seasonality\", \"residual\" e \"stationarity\".\n",
    "\n",
    "<center>\n",
    "<img src=\"img_5.png\" height= \"500\" width=\"500\" align=\"middle\">\n",
    "</center>"
   ]
  },
  {
   "cell_type": "code",
   "execution_count": 19,
   "id": "f3ca34b6",
   "metadata": {
    "slideshow": {
     "slide_type": "skip"
    }
   },
   "outputs": [],
   "source": [
    "df_rapporti_attivati = df_rapporti_attivati[(df_rapporti_attivati['YEAR'] >= 2009)]\n",
    "df_rapporti_attivati = df_rapporti_attivati.groupby(['DATA']).YEAR.count()\n",
    "df_1 = pd.DataFrame({'date': df_rapporti_attivati.index,\n",
    "                     'value': df_rapporti_attivati.values})\n",
    "df_1 = df_1.groupby(pd.Grouper(key='date', axis=0, freq='M', sort=True)).sum()\n",
    "df_1.drop(df_1.loc[df_1['value']== 0].index, inplace=True)"
   ]
  },
  {
   "cell_type": "code",
   "execution_count": 20,
   "id": "a534b7dd",
   "metadata": {
    "slideshow": {
     "slide_type": "skip"
    }
   },
   "outputs": [],
   "source": [
    "df_rapporti_cessati = df_rapporti_cessati[(df_rapporti_cessati['YEAR'] >= 2009)]\n",
    "df_rapporti_cessati = df_rapporti_cessati.groupby(['DATA']).YEAR.count()\n",
    "df_2 = pd.DataFrame({'date': df_rapporti_cessati.index,\n",
    "                     'value': df_rapporti_cessati.values})\n",
    "df_2 = df_2.groupby(pd.Grouper(key='date', axis=0, freq='M', sort=True)).sum()\n",
    "df_2.drop(df_2.loc[df_2['value']== 0].index, inplace=True)"
   ]
  },
  {
   "cell_type": "code",
   "execution_count": 21,
   "id": "cafa15f9",
   "metadata": {
    "cell_style": "split",
    "slideshow": {
     "slide_type": "subslide"
    }
   },
   "outputs": [
    {
     "data": {
      "text/html": [
       "<div>\n",
       "<style scoped>\n",
       "    .dataframe tbody tr th:only-of-type {\n",
       "        vertical-align: middle;\n",
       "    }\n",
       "\n",
       "    .dataframe tbody tr th {\n",
       "        vertical-align: top;\n",
       "    }\n",
       "\n",
       "    .dataframe thead th {\n",
       "        text-align: right;\n",
       "    }\n",
       "</style>\n",
       "<table border=\"1\" class=\"dataframe\">\n",
       "  <thead>\n",
       "    <tr style=\"text-align: right;\">\n",
       "      <th></th>\n",
       "      <th>value</th>\n",
       "    </tr>\n",
       "    <tr>\n",
       "      <th>date</th>\n",
       "      <th></th>\n",
       "    </tr>\n",
       "  </thead>\n",
       "  <tbody>\n",
       "    <tr>\n",
       "      <th>2009-01-31</th>\n",
       "      <td>26604</td>\n",
       "    </tr>\n",
       "    <tr>\n",
       "      <th>2009-02-28</th>\n",
       "      <td>33627</td>\n",
       "    </tr>\n",
       "    <tr>\n",
       "      <th>2009-03-31</th>\n",
       "      <td>31209</td>\n",
       "    </tr>\n",
       "    <tr>\n",
       "      <th>2009-04-30</th>\n",
       "      <td>29069</td>\n",
       "    </tr>\n",
       "    <tr>\n",
       "      <th>2009-05-31</th>\n",
       "      <td>19803</td>\n",
       "    </tr>\n",
       "    <tr>\n",
       "      <th>2009-06-30</th>\n",
       "      <td>23648</td>\n",
       "    </tr>\n",
       "    <tr>\n",
       "      <th>2009-07-31</th>\n",
       "      <td>27010</td>\n",
       "    </tr>\n",
       "    <tr>\n",
       "      <th>2009-08-31</th>\n",
       "      <td>25829</td>\n",
       "    </tr>\n",
       "  </tbody>\n",
       "</table>\n",
       "</div>"
      ],
      "text/plain": [
       "            value\n",
       "date             \n",
       "2009-01-31  26604\n",
       "2009-02-28  33627\n",
       "2009-03-31  31209\n",
       "2009-04-30  29069\n",
       "2009-05-31  19803\n",
       "2009-06-30  23648\n",
       "2009-07-31  27010\n",
       "2009-08-31  25829"
      ]
     },
     "execution_count": 21,
     "metadata": {},
     "output_type": "execute_result"
    }
   ],
   "source": [
    "# set di dati attivati\n",
    "df_1.head(8)"
   ]
  },
  {
   "cell_type": "code",
   "execution_count": 22,
   "id": "19b950a9",
   "metadata": {
    "cell_style": "split",
    "slideshow": {
     "slide_type": "fragment"
    }
   },
   "outputs": [
    {
     "data": {
      "text/html": [
       "<div>\n",
       "<style scoped>\n",
       "    .dataframe tbody tr th:only-of-type {\n",
       "        vertical-align: middle;\n",
       "    }\n",
       "\n",
       "    .dataframe tbody tr th {\n",
       "        vertical-align: top;\n",
       "    }\n",
       "\n",
       "    .dataframe thead th {\n",
       "        text-align: right;\n",
       "    }\n",
       "</style>\n",
       "<table border=\"1\" class=\"dataframe\">\n",
       "  <thead>\n",
       "    <tr style=\"text-align: right;\">\n",
       "      <th></th>\n",
       "      <th>value</th>\n",
       "    </tr>\n",
       "    <tr>\n",
       "      <th>date</th>\n",
       "      <th></th>\n",
       "    </tr>\n",
       "  </thead>\n",
       "  <tbody>\n",
       "    <tr>\n",
       "      <th>2009-01-31</th>\n",
       "      <td>26529</td>\n",
       "    </tr>\n",
       "    <tr>\n",
       "      <th>2009-02-28</th>\n",
       "      <td>24994</td>\n",
       "    </tr>\n",
       "    <tr>\n",
       "      <th>2009-03-31</th>\n",
       "      <td>20847</td>\n",
       "    </tr>\n",
       "    <tr>\n",
       "      <th>2009-04-30</th>\n",
       "      <td>15387</td>\n",
       "    </tr>\n",
       "    <tr>\n",
       "      <th>2009-05-31</th>\n",
       "      <td>10607</td>\n",
       "    </tr>\n",
       "    <tr>\n",
       "      <th>2009-06-30</th>\n",
       "      <td>10020</td>\n",
       "    </tr>\n",
       "    <tr>\n",
       "      <th>2009-07-31</th>\n",
       "      <td>10440</td>\n",
       "    </tr>\n",
       "    <tr>\n",
       "      <th>2009-08-31</th>\n",
       "      <td>9013</td>\n",
       "    </tr>\n",
       "  </tbody>\n",
       "</table>\n",
       "</div>"
      ],
      "text/plain": [
       "            value\n",
       "date             \n",
       "2009-01-31  26529\n",
       "2009-02-28  24994\n",
       "2009-03-31  20847\n",
       "2009-04-30  15387\n",
       "2009-05-31  10607\n",
       "2009-06-30  10020\n",
       "2009-07-31  10440\n",
       "2009-08-31   9013"
      ]
     },
     "execution_count": 22,
     "metadata": {},
     "output_type": "execute_result"
    }
   ],
   "source": [
    "# set di dati cessati\n",
    "df_2.head(8)"
   ]
  },
  {
   "cell_type": "markdown",
   "id": "6c3064ed",
   "metadata": {
    "slideshow": {
     "slide_type": "subslide"
    }
   },
   "source": [
    "<p style=\"text-align: center;\"> Test stazionarità  </p>"
   ]
  },
  {
   "cell_type": "code",
   "execution_count": 23,
   "id": "5bdab309",
   "metadata": {
    "cell_style": "split",
    "slideshow": {
     "slide_type": "fragment"
    }
   },
   "outputs": [
    {
     "data": {
      "text/plain": [
       "(0.2804061683269368, True)"
      ]
     },
     "execution_count": 23,
     "metadata": {},
     "output_type": "execute_result"
    }
   ],
   "source": [
    "#Stazionarità rapporti attivati\n",
    "adf_test = ADFTest(alpha=0.05)\n",
    "adf_test.should_diff(df_1)"
   ]
  },
  {
   "cell_type": "code",
   "execution_count": 24,
   "id": "b15ade79",
   "metadata": {
    "cell_style": "split",
    "slideshow": {
     "slide_type": "fragment"
    }
   },
   "outputs": [
    {
     "data": {
      "text/plain": [
       "(0.01, False)"
      ]
     },
     "execution_count": 24,
     "metadata": {},
     "output_type": "execute_result"
    }
   ],
   "source": [
    "#stazionarità rapporti cessati\n",
    "adf_test = ADFTest(alpha=0.05)\n",
    "adf_test.should_diff(df_2)"
   ]
  },
  {
   "cell_type": "markdown",
   "id": "0206b691",
   "metadata": {
    "slideshow": {
     "slide_type": "slide"
    }
   },
   "source": [
    "<h1>\n",
    "<p style=\"text-align: center;\">  PREDIZIONE TIME SERIES </p></h1>\n",
    "\n",
    "Tramite il modello \"auto-arima\" è stato possibile eseguire una predizione di valori futuri per i rapporti cessati e attivati\n",
    "\n",
    "<center>\n",
    "<img src=\"img_6.png\" height= \"500\" width=\"700\" align=\"middle\">\n",
    "</center>"
   ]
  },
  {
   "cell_type": "code",
   "execution_count": 25,
   "id": "6071d1a2",
   "metadata": {
    "slideshow": {
     "slide_type": "skip"
    }
   },
   "outputs": [
    {
     "name": "stdout",
     "output_type": "stream",
     "text": [
      "Performing stepwise search to minimize aic\n",
      " ARIMA(2,0,2)(0,0,0)[0] intercept   : AIC=3348.402, Time=0.32 sec\n",
      " ARIMA(0,0,0)(0,0,0)[0] intercept   : AIC=3429.179, Time=0.02 sec\n",
      " ARIMA(1,0,0)(0,0,0)[0] intercept   : AIC=3355.980, Time=0.03 sec\n",
      " ARIMA(0,0,1)(0,0,0)[0] intercept   : AIC=3376.717, Time=0.14 sec\n",
      " ARIMA(0,0,0)(0,0,0)[0]             : AIC=3875.986, Time=0.03 sec\n",
      " ARIMA(1,0,2)(0,0,0)[0] intercept   : AIC=3355.596, Time=0.12 sec\n",
      " ARIMA(2,0,1)(0,0,0)[0] intercept   : AIC=3354.559, Time=0.28 sec\n",
      " ARIMA(3,0,2)(0,0,0)[0] intercept   : AIC=3339.325, Time=0.25 sec\n",
      " ARIMA(3,0,1)(0,0,0)[0] intercept   : AIC=3337.944, Time=0.17 sec\n",
      " ARIMA(3,0,0)(0,0,0)[0] intercept   : AIC=3336.517, Time=0.13 sec\n",
      " ARIMA(2,0,0)(0,0,0)[0] intercept   : AIC=3355.543, Time=0.08 sec\n",
      " ARIMA(4,0,0)(0,0,0)[0] intercept   : AIC=3333.428, Time=0.18 sec\n",
      " ARIMA(5,0,0)(0,0,0)[0] intercept   : AIC=3335.852, Time=0.24 sec\n",
      " ARIMA(4,0,1)(0,0,0)[0] intercept   : AIC=3332.220, Time=0.24 sec\n",
      " ARIMA(5,0,1)(0,0,0)[0] intercept   : AIC=3334.318, Time=0.31 sec\n",
      " ARIMA(4,0,2)(0,0,0)[0] intercept   : AIC=3334.599, Time=0.36 sec\n",
      " ARIMA(5,0,2)(0,0,0)[0] intercept   : AIC=3336.689, Time=1.12 sec\n",
      " ARIMA(4,0,1)(0,0,0)[0]             : AIC=3337.820, Time=0.30 sec\n",
      "\n",
      "Best model:  ARIMA(4,0,1)(0,0,0)[0] intercept\n",
      "Total fit time: 4.352 seconds\n",
      "3332.220311974839\n"
     ]
    }
   ],
   "source": [
    "stepwise_model_1 = auto_arima(df_1, start_p=2, d=0,start_q=2,\n",
    "                           max_p=5, max_d=2, max_q=5, m=1,\n",
    "                           trace=True, stationary=True,\n",
    "                           error_action='warn',  \n",
    "                           suppress_warnings=True, \n",
    "                           stepwise=True)\n",
    "print(stepwise_model_1.aic())"
   ]
  },
  {
   "cell_type": "code",
   "execution_count": 26,
   "id": "882a98e1",
   "metadata": {
    "slideshow": {
     "slide_type": "skip"
    }
   },
   "outputs": [
    {
     "name": "stdout",
     "output_type": "stream",
     "text": [
      "Performing stepwise search to minimize aic\n",
      " ARIMA(2,1,2)(1,0,1)[12] intercept   : AIC=3167.785, Time=1.55 sec\n",
      " ARIMA(0,1,0)(0,0,0)[12] intercept   : AIC=3232.120, Time=0.02 sec\n",
      " ARIMA(1,1,0)(1,0,0)[12] intercept   : AIC=3195.024, Time=0.16 sec\n",
      " ARIMA(0,1,1)(0,0,1)[12] intercept   : AIC=3198.864, Time=0.19 sec\n",
      " ARIMA(0,1,0)(0,0,0)[12]             : AIC=3230.133, Time=0.46 sec\n",
      " ARIMA(2,1,2)(0,0,1)[12] intercept   : AIC=3190.256, Time=0.62 sec\n",
      " ARIMA(2,1,2)(1,0,0)[12] intercept   : AIC=3177.524, Time=0.60 sec\n",
      " ARIMA(2,1,2)(2,0,1)[12] intercept   : AIC=3168.911, Time=3.18 sec\n",
      " ARIMA(2,1,2)(1,0,2)[12] intercept   : AIC=3170.341, Time=3.09 sec\n",
      " ARIMA(2,1,2)(0,0,0)[12] intercept   : AIC=3193.775, Time=0.73 sec\n",
      " ARIMA(2,1,2)(0,0,2)[12] intercept   : AIC=3191.231, Time=1.33 sec\n",
      " ARIMA(2,1,2)(2,0,0)[12] intercept   : AIC=3173.866, Time=1.03 sec\n",
      " ARIMA(2,1,2)(2,0,2)[12] intercept   : AIC=3157.738, Time=3.60 sec\n",
      " ARIMA(2,1,2)(3,0,2)[12] intercept   : AIC=3172.497, Time=4.98 sec\n",
      " ARIMA(2,1,2)(2,0,3)[12] intercept   : AIC=inf, Time=6.45 sec\n",
      " ARIMA(2,1,2)(1,0,3)[12] intercept   : AIC=3170.153, Time=5.59 sec\n",
      " ARIMA(2,1,2)(3,0,1)[12] intercept   : AIC=3169.552, Time=7.29 sec\n",
      " ARIMA(2,1,2)(3,0,3)[12] intercept   : AIC=3173.185, Time=8.82 sec\n",
      " ARIMA(1,1,2)(2,0,2)[12] intercept   : AIC=3165.674, Time=3.17 sec\n",
      " ARIMA(2,1,1)(2,0,2)[12] intercept   : AIC=3161.629, Time=3.52 sec\n",
      " ARIMA(3,1,2)(2,0,2)[12] intercept   : AIC=3160.566, Time=3.74 sec\n",
      " ARIMA(2,1,3)(2,0,2)[12] intercept   : AIC=inf, Time=4.89 sec\n",
      " ARIMA(1,1,1)(2,0,2)[12] intercept   : AIC=inf, Time=2.92 sec\n",
      " ARIMA(1,1,3)(2,0,2)[12] intercept   : AIC=3151.167, Time=3.77 sec\n",
      " ARIMA(1,1,3)(1,0,2)[12] intercept   : AIC=3152.634, Time=3.30 sec\n",
      " ARIMA(1,1,3)(2,0,1)[12] intercept   : AIC=3152.142, Time=2.96 sec\n",
      " ARIMA(1,1,3)(3,0,2)[12] intercept   : AIC=3151.721, Time=7.21 sec\n",
      " ARIMA(1,1,3)(2,0,3)[12] intercept   : AIC=3152.807, Time=7.44 sec\n",
      " ARIMA(1,1,3)(1,0,1)[12] intercept   : AIC=3150.757, Time=1.62 sec\n",
      " ARIMA(1,1,3)(0,0,1)[12] intercept   : AIC=3179.470, Time=0.84 sec\n",
      " ARIMA(1,1,3)(1,0,0)[12] intercept   : AIC=3152.670, Time=1.30 sec\n",
      " ARIMA(1,1,3)(0,0,0)[12] intercept   : AIC=inf, Time=0.73 sec\n",
      " ARIMA(1,1,3)(0,0,2)[12] intercept   : AIC=3180.481, Time=1.83 sec\n",
      " ARIMA(1,1,3)(2,0,0)[12] intercept   : AIC=3157.425, Time=1.06 sec\n",
      " ARIMA(0,1,3)(1,0,1)[12] intercept   : AIC=3140.864, Time=1.47 sec\n",
      " ARIMA(0,1,3)(0,0,1)[12] intercept   : AIC=3178.972, Time=0.37 sec\n",
      " ARIMA(0,1,3)(1,0,0)[12] intercept   : AIC=3161.606, Time=0.34 sec\n",
      " ARIMA(0,1,3)(2,0,1)[12] intercept   : AIC=3151.290, Time=2.46 sec\n",
      " ARIMA(0,1,3)(1,0,2)[12] intercept   : AIC=3150.369, Time=2.89 sec\n",
      " ARIMA(0,1,3)(0,0,0)[12] intercept   : AIC=inf, Time=0.63 sec\n",
      " ARIMA(0,1,3)(0,0,2)[12] intercept   : AIC=3179.661, Time=0.93 sec\n",
      " ARIMA(0,1,3)(2,0,0)[12] intercept   : AIC=3155.991, Time=0.56 sec\n",
      " ARIMA(0,1,3)(2,0,2)[12] intercept   : AIC=3150.150, Time=3.26 sec\n",
      " ARIMA(0,1,2)(1,0,1)[12] intercept   : AIC=3148.774, Time=1.24 sec\n",
      " ARIMA(0,1,4)(1,0,1)[12] intercept   : AIC=3136.990, Time=1.61 sec\n",
      " ARIMA(0,1,4)(0,0,1)[12] intercept   : AIC=inf, Time=1.43 sec\n",
      " ARIMA(0,1,4)(1,0,0)[12] intercept   : AIC=3154.833, Time=0.46 sec\n",
      " ARIMA(0,1,4)(2,0,1)[12] intercept   : AIC=3138.769, Time=2.54 sec\n",
      " ARIMA(0,1,4)(1,0,2)[12] intercept   : AIC=3138.781, Time=3.64 sec\n",
      " ARIMA(0,1,4)(0,0,0)[12] intercept   : AIC=inf, Time=1.01 sec\n",
      " ARIMA(0,1,4)(0,0,2)[12] intercept   : AIC=3176.251, Time=3.10 sec\n",
      " ARIMA(0,1,4)(2,0,0)[12] intercept   : AIC=3146.950, Time=0.78 sec\n",
      " ARIMA(0,1,4)(2,0,2)[12] intercept   : AIC=3136.735, Time=4.09 sec\n",
      " ARIMA(0,1,4)(3,0,2)[12] intercept   : AIC=3136.823, Time=3.65 sec\n",
      " ARIMA(0,1,4)(2,0,3)[12] intercept   : AIC=3137.741, Time=7.24 sec\n",
      " ARIMA(0,1,4)(1,0,3)[12] intercept   : AIC=3138.416, Time=6.43 sec\n",
      " ARIMA(0,1,4)(3,0,1)[12] intercept   : AIC=3129.733, Time=5.93 sec\n",
      " ARIMA(0,1,4)(3,0,0)[12] intercept   : AIC=3139.965, Time=2.78 sec\n",
      " ARIMA(0,1,4)(4,0,1)[12] intercept   : AIC=3131.693, Time=9.46 sec\n",
      " ARIMA(0,1,4)(4,0,0)[12] intercept   : AIC=3136.541, Time=7.17 sec\n",
      " ARIMA(0,1,4)(4,0,2)[12] intercept   : AIC=3138.601, Time=7.41 sec\n",
      " ARIMA(0,1,3)(3,0,1)[12] intercept   : AIC=3149.573, Time=2.28 sec\n",
      " ARIMA(1,1,4)(3,0,1)[12] intercept   : AIC=3136.785, Time=3.19 sec\n",
      " ARIMA(0,1,5)(3,0,1)[12] intercept   : AIC=3126.479, Time=6.12 sec\n",
      " ARIMA(0,1,5)(2,0,1)[12] intercept   : AIC=3133.421, Time=3.09 sec\n",
      " ARIMA(0,1,5)(3,0,0)[12] intercept   : AIC=3131.943, Time=4.23 sec\n",
      " ARIMA(0,1,5)(4,0,1)[12] intercept   : AIC=3128.989, Time=11.09 sec\n",
      " ARIMA(0,1,5)(3,0,2)[12] intercept   : AIC=3134.541, Time=3.90 sec\n",
      " ARIMA(0,1,5)(2,0,0)[12] intercept   : AIC=3137.966, Time=2.18 sec\n",
      " ARIMA(0,1,5)(2,0,2)[12] intercept   : AIC=3130.775, Time=4.82 sec\n",
      " ARIMA(0,1,5)(4,0,0)[12] intercept   : AIC=3132.586, Time=7.75 sec\n",
      " ARIMA(0,1,5)(4,0,2)[12] intercept   : AIC=3136.198, Time=8.12 sec\n",
      " ARIMA(1,1,5)(3,0,1)[12] intercept   : AIC=3127.315, Time=3.39 sec\n",
      " ARIMA(0,1,5)(3,0,1)[12]             : AIC=3129.818, Time=2.79 sec\n",
      "\n",
      "Best model:  ARIMA(0,1,5)(3,0,1)[12] intercept\n",
      "Total fit time: 245.897 seconds\n",
      "3126.4794507036577\n"
     ]
    }
   ],
   "source": [
    "stepwise_model_2 = auto_arima(df_2, start_p=2, d=1,start_q=2,\n",
    "                           max_p=5, max_d=2, max_q=5, m=12,\n",
    "                           start_P=1, start_Q=1, max_P=5,\n",
    "                           max_D=5, max_Q=5, seasonal=True,\n",
    "                           trace=True, stationary=False,\n",
    "                           error_action='warn',  \n",
    "                           suppress_warnings=True, \n",
    "                           stepwise=True)\n",
    "print(stepwise_model_2.aic())"
   ]
  },
  {
   "cell_type": "markdown",
   "id": "d929bb88",
   "metadata": {
    "slideshow": {
     "slide_type": "subslide"
    }
   },
   "source": [
    "<p style=\"text-align: center;\"> Data Training </p>"
   ]
  },
  {
   "cell_type": "markdown",
   "id": "481f7546",
   "metadata": {
    "cell_style": "split",
    "slideshow": {
     "slide_type": "fragment"
    }
   },
   "source": [
    " Parametri auto-arima lavori_Attivati:\n",
    " - __start_p__ = 2   \n",
    " - __d__ = 0\n",
    " - __start_q__ = 2\n",
    " - __max_p__ = 5\n",
    " - __max_d__ = 2\n",
    " - __max_q__ = 5\n",
    " - __stationarity__ = true"
   ]
  },
  {
   "cell_type": "markdown",
   "id": "e8ad70ad",
   "metadata": {
    "cell_style": "split",
    "slideshow": {
     "slide_type": "fragment"
    }
   },
   "source": [
    "Parametri auto-arima lavori_Cessati:\n",
    " - __start_p__ = 2, __start_P__ = 1\n",
    " - __d__ = 1, __m__=12\n",
    " - __start_q__ = 2, __start_Q__ = 1\n",
    " - __max_p__ = 5, __max_P__ = 5 \n",
    " - __max_d__ = 2, __max_D__ = 5\n",
    " - __max_q__ = 5, __max_Q__ = 5\n",
    " - __seasonal__= true"
   ]
  },
  {
   "cell_type": "markdown",
   "id": "4586d399",
   "metadata": {
    "slideshow": {
     "slide_type": "subslide"
    }
   },
   "source": [
    "<p style=\"text-align: center;\"> Summary model Auto-arima </p>"
   ]
  },
  {
   "cell_type": "code",
   "execution_count": 27,
   "id": "35814f7e",
   "metadata": {
    "cell_style": "split",
    "scrolled": true,
    "slideshow": {
     "slide_type": "fragment"
    }
   },
   "outputs": [
    {
     "data": {
      "text/html": [
       "<table class=\"simpletable\">\n",
       "<caption>SARIMAX Results</caption>\n",
       "<tr>\n",
       "  <th>Dep. Variable:</th>           <td>y</td>        <th>  No. Observations:  </th>    <td>156</td>   \n",
       "</tr>\n",
       "<tr>\n",
       "  <th>Model:</th>           <td>SARIMAX(4, 0, 1)</td> <th>  Log Likelihood     </th> <td>-1659.110</td>\n",
       "</tr>\n",
       "<tr>\n",
       "  <th>Date:</th>            <td>Sat, 18 Jun 2022</td> <th>  AIC                </th> <td>3332.220</td> \n",
       "</tr>\n",
       "<tr>\n",
       "  <th>Time:</th>                <td>15:39:49</td>     <th>  BIC                </th> <td>3353.569</td> \n",
       "</tr>\n",
       "<tr>\n",
       "  <th>Sample:</th>                  <td>0</td>        <th>  HQIC               </th> <td>3340.891</td> \n",
       "</tr>\n",
       "<tr>\n",
       "  <th></th>                      <td> - 156</td>      <th>                     </th>     <td> </td>    \n",
       "</tr>\n",
       "<tr>\n",
       "  <th>Covariance Type:</th>        <td>opg</td>       <th>                     </th>     <td> </td>    \n",
       "</tr>\n",
       "</table>\n",
       "<table class=\"simpletable\">\n",
       "<tr>\n",
       "      <td></td>         <th>coef</th>     <th>std err</th>      <th>z</th>      <th>P>|z|</th>  <th>[0.025</th>    <th>0.975]</th>  \n",
       "</tr>\n",
       "<tr>\n",
       "  <th>intercept</th> <td> 1.329e+04</td> <td> 5861.386</td> <td>    2.267</td> <td> 0.023</td> <td> 1799.922</td> <td> 2.48e+04</td>\n",
       "</tr>\n",
       "<tr>\n",
       "  <th>ar.L1</th>     <td>   -0.0204</td> <td>    0.291</td> <td>   -0.070</td> <td> 0.944</td> <td>   -0.591</td> <td>    0.550</td>\n",
       "</tr>\n",
       "<tr>\n",
       "  <th>ar.L2</th>     <td>    0.1822</td> <td>    0.167</td> <td>    1.091</td> <td> 0.275</td> <td>   -0.145</td> <td>    0.510</td>\n",
       "</tr>\n",
       "<tr>\n",
       "  <th>ar.L3</th>     <td>    0.2421</td> <td>    0.073</td> <td>    3.318</td> <td> 0.001</td> <td>    0.099</td> <td>    0.385</td>\n",
       "</tr>\n",
       "<tr>\n",
       "  <th>ar.L4</th>     <td>    0.3587</td> <td>    0.110</td> <td>    3.251</td> <td> 0.001</td> <td>    0.142</td> <td>    0.575</td>\n",
       "</tr>\n",
       "<tr>\n",
       "  <th>ma.L1</th>     <td>    0.4792</td> <td>    0.307</td> <td>    1.559</td> <td> 0.119</td> <td>   -0.123</td> <td>    1.082</td>\n",
       "</tr>\n",
       "<tr>\n",
       "  <th>sigma2</th>    <td> 9.865e+07</td> <td>    0.274</td> <td> 3.61e+08</td> <td> 0.000</td> <td> 9.87e+07</td> <td> 9.87e+07</td>\n",
       "</tr>\n",
       "</table>\n",
       "<table class=\"simpletable\">\n",
       "<tr>\n",
       "  <th>Ljung-Box (L1) (Q):</th>     <td>0.05</td> <th>  Jarque-Bera (JB):  </th> <td>2.95</td>\n",
       "</tr>\n",
       "<tr>\n",
       "  <th>Prob(Q):</th>                <td>0.82</td> <th>  Prob(JB):          </th> <td>0.23</td>\n",
       "</tr>\n",
       "<tr>\n",
       "  <th>Heteroskedasticity (H):</th> <td>1.58</td> <th>  Skew:              </th> <td>0.15</td>\n",
       "</tr>\n",
       "<tr>\n",
       "  <th>Prob(H) (two-sided):</th>    <td>0.10</td> <th>  Kurtosis:          </th> <td>3.60</td>\n",
       "</tr>\n",
       "</table><br/><br/>Warnings:<br/>[1] Covariance matrix calculated using the outer product of gradients (complex-step).<br/>[2] Covariance matrix is singular or near-singular, with condition number 2.57e+24. Standard errors may be unstable."
      ],
      "text/plain": [
       "<class 'statsmodels.iolib.summary.Summary'>\n",
       "\"\"\"\n",
       "                               SARIMAX Results                                \n",
       "==============================================================================\n",
       "Dep. Variable:                      y   No. Observations:                  156\n",
       "Model:               SARIMAX(4, 0, 1)   Log Likelihood               -1659.110\n",
       "Date:                Sat, 18 Jun 2022   AIC                           3332.220\n",
       "Time:                        15:39:49   BIC                           3353.569\n",
       "Sample:                             0   HQIC                          3340.891\n",
       "                                - 156                                         \n",
       "Covariance Type:                  opg                                         \n",
       "==============================================================================\n",
       "                 coef    std err          z      P>|z|      [0.025      0.975]\n",
       "------------------------------------------------------------------------------\n",
       "intercept   1.329e+04   5861.386      2.267      0.023    1799.922    2.48e+04\n",
       "ar.L1         -0.0204      0.291     -0.070      0.944      -0.591       0.550\n",
       "ar.L2          0.1822      0.167      1.091      0.275      -0.145       0.510\n",
       "ar.L3          0.2421      0.073      3.318      0.001       0.099       0.385\n",
       "ar.L4          0.3587      0.110      3.251      0.001       0.142       0.575\n",
       "ma.L1          0.4792      0.307      1.559      0.119      -0.123       1.082\n",
       "sigma2      9.865e+07      0.274   3.61e+08      0.000    9.87e+07    9.87e+07\n",
       "===================================================================================\n",
       "Ljung-Box (L1) (Q):                   0.05   Jarque-Bera (JB):                 2.95\n",
       "Prob(Q):                              0.82   Prob(JB):                         0.23\n",
       "Heteroskedasticity (H):               1.58   Skew:                             0.15\n",
       "Prob(H) (two-sided):                  0.10   Kurtosis:                         3.60\n",
       "===================================================================================\n",
       "\n",
       "Warnings:\n",
       "[1] Covariance matrix calculated using the outer product of gradients (complex-step).\n",
       "[2] Covariance matrix is singular or near-singular, with condition number 2.57e+24. Standard errors may be unstable.\n",
       "\"\"\""
      ]
     },
     "execution_count": 27,
     "metadata": {},
     "output_type": "execute_result"
    }
   ],
   "source": [
    "stepwise_model_1.summary()"
   ]
  },
  {
   "cell_type": "code",
   "execution_count": 28,
   "id": "2c029ed2",
   "metadata": {
    "cell_style": "split",
    "scrolled": true,
    "slideshow": {
     "slide_type": "fragment"
    }
   },
   "outputs": [
    {
     "data": {
      "text/html": [
       "<table class=\"simpletable\">\n",
       "<caption>SARIMAX Results</caption>\n",
       "<tr>\n",
       "  <th>Dep. Variable:</th>                   <td>y</td>                <th>  No. Observations:  </th>    <td>156</td>   \n",
       "</tr>\n",
       "<tr>\n",
       "  <th>Model:</th>           <td>SARIMAX(0, 1, 5)x(3, 0, [1], 12)</td> <th>  Log Likelihood     </th> <td>-1552.240</td>\n",
       "</tr>\n",
       "<tr>\n",
       "  <th>Date:</th>                    <td>Sat, 18 Jun 2022</td>         <th>  AIC                </th> <td>3126.479</td> \n",
       "</tr>\n",
       "<tr>\n",
       "  <th>Time:</th>                        <td>15:39:51</td>             <th>  BIC                </th> <td>3159.957</td> \n",
       "</tr>\n",
       "<tr>\n",
       "  <th>Sample:</th>                          <td>0</td>                <th>  HQIC               </th> <td>3140.077</td> \n",
       "</tr>\n",
       "<tr>\n",
       "  <th></th>                              <td> - 156</td>              <th>                     </th>     <td> </td>    \n",
       "</tr>\n",
       "<tr>\n",
       "  <th>Covariance Type:</th>                <td>opg</td>               <th>                     </th>     <td> </td>    \n",
       "</tr>\n",
       "</table>\n",
       "<table class=\"simpletable\">\n",
       "<tr>\n",
       "      <td></td>         <th>coef</th>     <th>std err</th>      <th>z</th>      <th>P>|z|</th>  <th>[0.025</th>    <th>0.975]</th>  \n",
       "</tr>\n",
       "<tr>\n",
       "  <th>intercept</th> <td>  170.2474</td> <td>  234.359</td> <td>    0.726</td> <td> 0.468</td> <td> -289.087</td> <td>  629.582</td>\n",
       "</tr>\n",
       "<tr>\n",
       "  <th>ma.L1</th>     <td>   -0.6209</td> <td>    0.104</td> <td>   -5.982</td> <td> 0.000</td> <td>   -0.824</td> <td>   -0.417</td>\n",
       "</tr>\n",
       "<tr>\n",
       "  <th>ma.L2</th>     <td>   -0.0795</td> <td>    0.129</td> <td>   -0.618</td> <td> 0.537</td> <td>   -0.332</td> <td>    0.173</td>\n",
       "</tr>\n",
       "<tr>\n",
       "  <th>ma.L3</th>     <td>    0.0350</td> <td>    0.149</td> <td>    0.235</td> <td> 0.814</td> <td>   -0.257</td> <td>    0.327</td>\n",
       "</tr>\n",
       "<tr>\n",
       "  <th>ma.L4</th>     <td>    0.1093</td> <td>    0.144</td> <td>    0.758</td> <td> 0.448</td> <td>   -0.173</td> <td>    0.392</td>\n",
       "</tr>\n",
       "<tr>\n",
       "  <th>ma.L5</th>     <td>   -0.2078</td> <td>    0.119</td> <td>   -1.745</td> <td> 0.081</td> <td>   -0.441</td> <td>    0.026</td>\n",
       "</tr>\n",
       "<tr>\n",
       "  <th>ar.S.L12</th>  <td>   -0.1449</td> <td>    0.244</td> <td>   -0.593</td> <td> 0.553</td> <td>   -0.624</td> <td>    0.334</td>\n",
       "</tr>\n",
       "<tr>\n",
       "  <th>ar.S.L24</th>  <td>    0.3744</td> <td>    0.158</td> <td>    2.376</td> <td> 0.018</td> <td>    0.066</td> <td>    0.683</td>\n",
       "</tr>\n",
       "<tr>\n",
       "  <th>ar.S.L36</th>  <td>    0.4504</td> <td>    0.095</td> <td>    4.718</td> <td> 0.000</td> <td>    0.263</td> <td>    0.638</td>\n",
       "</tr>\n",
       "<tr>\n",
       "  <th>ma.S.L12</th>  <td>    0.6621</td> <td>    0.258</td> <td>    2.564</td> <td> 0.010</td> <td>    0.156</td> <td>    1.168</td>\n",
       "</tr>\n",
       "<tr>\n",
       "  <th>sigma2</th>    <td> 3.538e+07</td> <td>    0.002</td> <td> 1.87e+10</td> <td> 0.000</td> <td> 3.54e+07</td> <td> 3.54e+07</td>\n",
       "</tr>\n",
       "</table>\n",
       "<table class=\"simpletable\">\n",
       "<tr>\n",
       "  <th>Ljung-Box (L1) (Q):</th>     <td>0.94</td> <th>  Jarque-Bera (JB):  </th> <td>143.86</td>\n",
       "</tr>\n",
       "<tr>\n",
       "  <th>Prob(Q):</th>                <td>0.33</td> <th>  Prob(JB):          </th>  <td>0.00</td> \n",
       "</tr>\n",
       "<tr>\n",
       "  <th>Heteroskedasticity (H):</th> <td>0.52</td> <th>  Skew:              </th>  <td>1.10</td> \n",
       "</tr>\n",
       "<tr>\n",
       "  <th>Prob(H) (two-sided):</th>    <td>0.02</td> <th>  Kurtosis:          </th>  <td>7.18</td> \n",
       "</tr>\n",
       "</table><br/><br/>Warnings:<br/>[1] Covariance matrix calculated using the outer product of gradients (complex-step).<br/>[2] Covariance matrix is singular or near-singular, with condition number 6.95e+25. Standard errors may be unstable."
      ],
      "text/plain": [
       "<class 'statsmodels.iolib.summary.Summary'>\n",
       "\"\"\"\n",
       "                                      SARIMAX Results                                       \n",
       "============================================================================================\n",
       "Dep. Variable:                                    y   No. Observations:                  156\n",
       "Model:             SARIMAX(0, 1, 5)x(3, 0, [1], 12)   Log Likelihood               -1552.240\n",
       "Date:                              Sat, 18 Jun 2022   AIC                           3126.479\n",
       "Time:                                      15:39:51   BIC                           3159.957\n",
       "Sample:                                           0   HQIC                          3140.077\n",
       "                                              - 156                                         \n",
       "Covariance Type:                                opg                                         \n",
       "==============================================================================\n",
       "                 coef    std err          z      P>|z|      [0.025      0.975]\n",
       "------------------------------------------------------------------------------\n",
       "intercept    170.2474    234.359      0.726      0.468    -289.087     629.582\n",
       "ma.L1         -0.6209      0.104     -5.982      0.000      -0.824      -0.417\n",
       "ma.L2         -0.0795      0.129     -0.618      0.537      -0.332       0.173\n",
       "ma.L3          0.0350      0.149      0.235      0.814      -0.257       0.327\n",
       "ma.L4          0.1093      0.144      0.758      0.448      -0.173       0.392\n",
       "ma.L5         -0.2078      0.119     -1.745      0.081      -0.441       0.026\n",
       "ar.S.L12      -0.1449      0.244     -0.593      0.553      -0.624       0.334\n",
       "ar.S.L24       0.3744      0.158      2.376      0.018       0.066       0.683\n",
       "ar.S.L36       0.4504      0.095      4.718      0.000       0.263       0.638\n",
       "ma.S.L12       0.6621      0.258      2.564      0.010       0.156       1.168\n",
       "sigma2      3.538e+07      0.002   1.87e+10      0.000    3.54e+07    3.54e+07\n",
       "===================================================================================\n",
       "Ljung-Box (L1) (Q):                   0.94   Jarque-Bera (JB):               143.86\n",
       "Prob(Q):                              0.33   Prob(JB):                         0.00\n",
       "Heteroskedasticity (H):               0.52   Skew:                             1.10\n",
       "Prob(H) (two-sided):                  0.02   Kurtosis:                         7.18\n",
       "===================================================================================\n",
       "\n",
       "Warnings:\n",
       "[1] Covariance matrix calculated using the outer product of gradients (complex-step).\n",
       "[2] Covariance matrix is singular or near-singular, with condition number 6.95e+25. Standard errors may be unstable.\n",
       "\"\"\""
      ]
     },
     "execution_count": 28,
     "metadata": {},
     "output_type": "execute_result"
    }
   ],
   "source": [
    "stepwise_model_2.summary()"
   ]
  },
  {
   "cell_type": "markdown",
   "id": "3fcfd66b",
   "metadata": {
    "slideshow": {
     "slide_type": "subslide"
    }
   },
   "source": [
    "<p style=\"text-align: center;\"> Diagnostica Modello </p>"
   ]
  },
  {
   "cell_type": "code",
   "execution_count": 29,
   "id": "3ad71ef1",
   "metadata": {
    "cell_style": "split",
    "slideshow": {
     "slide_type": "fragment"
    }
   },
   "outputs": [
    {
     "data": {
      "image/png": "[encoded data removed]",
      "text/plain": [
       "<Figure size 432x288 with 4 Axes>"
      ]
     },
     "metadata": {},
     "output_type": "display_data"
    }
   ],
   "source": [
    "stepwise_model_1.plot_diagnostics()\n",
    "plt.show()"
   ]
  },
  {
   "cell_type": "code",
   "execution_count": 30,
   "id": "8256ed57",
   "metadata": {
    "cell_style": "split",
    "slideshow": {
     "slide_type": "fragment"
    }
   },
   "outputs": [
    {
     "data": {
      "image/png": "[encoded data removed]",
      "text/plain": [
       "<Figure size 432x288 with 4 Axes>"
      ]
     },
     "metadata": {},
     "output_type": "display_data"
    }
   ],
   "source": [
    "stepwise_model_2.plot_diagnostics()\n",
    "plt.show()"
   ]
  },
  {
   "cell_type": "code",
   "execution_count": 31,
   "id": "d52d5158",
   "metadata": {
    "slideshow": {
     "slide_type": "skip"
    }
   },
   "outputs": [],
   "source": [
    "train_size_A = 0.8\n",
    "split_idx_A = round(len(df_1)* train_size_A)\n",
    "split_idx_A\n",
    "\n",
    "# Split\n",
    "train_A = df_1.iloc[:split_idx_A]\n",
    "test_A = df_1.iloc[split_idx_A:]"
   ]
  },
  {
   "cell_type": "code",
   "execution_count": 32,
   "id": "15fa5e40",
   "metadata": {
    "slideshow": {
     "slide_type": "skip"
    }
   },
   "outputs": [
    {
     "data": {
      "text/plain": [
       "ARIMA(order=(4, 0, 1), scoring_args={}, suppress_warnings=True)"
      ]
     },
     "execution_count": 32,
     "metadata": {},
     "output_type": "execute_result"
    }
   ],
   "source": [
    "stepwise_model_1.fit(train_A)"
   ]
  },
  {
   "cell_type": "code",
   "execution_count": 33,
   "id": "b67797d2",
   "metadata": {
    "slideshow": {
     "slide_type": "skip"
    }
   },
   "outputs": [],
   "source": [
    "future_forecast_A, cf = stepwise_model_1.predict(n_periods=31, return_conf_int=True)"
   ]
  },
  {
   "cell_type": "code",
   "execution_count": 34,
   "id": "21c99874",
   "metadata": {
    "slideshow": {
     "slide_type": "skip"
    }
   },
   "outputs": [],
   "source": [
    "future_forecast_A = pd.DataFrame(future_forecast_A,index = test_A.index,columns=['Prediction'])"
   ]
  },
  {
   "cell_type": "code",
   "execution_count": 35,
   "id": "cf8c3d29",
   "metadata": {
    "slideshow": {
     "slide_type": "skip"
    }
   },
   "outputs": [],
   "source": [
    "train_size_C = 0.8\n",
    "split_idx_C = round(len(df_2)* train_size_C)\n",
    "split_idx_C\n",
    "\n",
    "# Split\n",
    "train_C = df_2.iloc[:split_idx_C]\n",
    "test_C = df_2.iloc[split_idx_C:]"
   ]
  },
  {
   "cell_type": "code",
   "execution_count": 36,
   "id": "b1be1c2e",
   "metadata": {
    "slideshow": {
     "slide_type": "skip"
    }
   },
   "outputs": [
    {
     "data": {
      "text/plain": [
       "ARIMA(order=(0, 1, 5), scoring_args={}, seasonal_order=(3, 0, 1, 12),\n",
       "      suppress_warnings=True)"
      ]
     },
     "execution_count": 36,
     "metadata": {},
     "output_type": "execute_result"
    }
   ],
   "source": [
    "stepwise_model_2.fit(train_C)"
   ]
  },
  {
   "cell_type": "code",
   "execution_count": 37,
   "id": "3f84f514",
   "metadata": {
    "slideshow": {
     "slide_type": "skip"
    }
   },
   "outputs": [],
   "source": [
    "future_forecast_C, cf = stepwise_model_2.predict(n_periods=31, return_conf_int=True)"
   ]
  },
  {
   "cell_type": "code",
   "execution_count": 38,
   "id": "2b21250b",
   "metadata": {
    "slideshow": {
     "slide_type": "skip"
    }
   },
   "outputs": [],
   "source": [
    "future_forecast_C = pd.DataFrame(future_forecast_C, index = test_C.index,columns=['Prediction'])"
   ]
  },
  {
   "cell_type": "code",
   "execution_count": 39,
   "id": "f58044bb",
   "metadata": {
    "slideshow": {
     "slide_type": "skip"
    }
   },
   "outputs": [],
   "source": [
    "index_of_fc_A = pd.date_range(df_1.index[-1], periods = 31, freq='MS')\n",
    "\n",
    "future_forecast_1 = future_forecast_A\n",
    "future_forecast_1 = future_forecast_1.set_index(index_of_fc_A)"
   ]
  },
  {
   "cell_type": "code",
   "execution_count": 40,
   "id": "6007c55c",
   "metadata": {
    "slideshow": {
     "slide_type": "skip"
    }
   },
   "outputs": [],
   "source": [
    "index_of_fc_C = pd.date_range(df_2.index[-1], periods = 31, freq='MS')\n",
    "future_forecast_2 = future_forecast_C\n",
    "future_forecast_2 = future_forecast_2.set_index(index_of_fc_C)"
   ]
  },
  {
   "cell_type": "code",
   "execution_count": 41,
   "id": "d1de94cc",
   "metadata": {
    "cell_style": "center",
    "slideshow": {
     "slide_type": "subslide"
    }
   },
   "outputs": [
    {
     "data": {
      "image/png": "[encoded data removed]",
      "text/plain": [
       "<Figure size 1440x576 with 1 Axes>"
      ]
     },
     "metadata": {},
     "output_type": "display_data"
    }
   ],
   "source": [
    "plt.figure(figsize=(20, 8))\n",
    "plt.plot(df_1, color='orange', label='Actual Date')\n",
    "plt.plot(future_forecast_1, color='darkgreen', label='Predict')\n",
    "plt.legend(loc='upper left', fontsize=15)\n",
    "plt.title(\"Predict activate contracts\")\n",
    "plt.show()"
   ]
  },
  {
   "cell_type": "code",
   "execution_count": 42,
   "id": "700acf02",
   "metadata": {
    "slideshow": {
     "slide_type": "subslide"
    }
   },
   "outputs": [
    {
     "data": {
      "image/png": "[encoded data removed]",
      "text/plain": [
       "<Figure size 1440x576 with 1 Axes>"
      ]
     },
     "metadata": {},
     "output_type": "display_data"
    }
   ],
   "source": [
    "plt.figure(figsize=(20, 8))\n",
    "plt.plot(df_2, color='orange', label='Actual Date')\n",
    "plt.plot(future_forecast_2, color='darkgreen', label='Predict')\n",
    "plt.legend(loc='upper left', fontsize=15)\n",
    "plt.title(\"Predict ceased contracts\")\n",
    "plt.show()"
   ]
  },
  {
   "cell_type": "markdown",
   "id": "10839a4e",
   "metadata": {
    "slideshow": {
     "slide_type": "slide"
    }
   },
   "source": [
    "<center>\n",
    "<img src=\"img_7.png\" height= \"1000\" width=\"1200\" align=\"middle\">\n",
    "</center>"
   ]
  }
 ],
 "metadata": {
  "celltoolbar": "Slideshow",
  "kernelspec": {
   "display_name": "Python 3 (ipykernel)",
   "language": "python",
   "name": "python3"
  },
  "language_info": {
   "codemirror_mode": {
    "name": "ipython",
    "version": 3
   },
   "file_extension": ".py",
   "mimetype": "text/x-python",
   "name": "python",
   "nbconvert_exporter": "python",
   "pygments_lexer": "ipython3",
   "version": "3.10.2"
  }
 },
 "nbformat": 4,
 "nbformat_minor": 5
}
